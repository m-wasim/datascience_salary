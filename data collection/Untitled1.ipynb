{
 "cells": [
  {
   "cell_type": "code",
   "execution_count": 1,
   "metadata": {},
   "outputs": [],
   "source": [
    "from selenium.common.exceptions import NoSuchElementException, ElementClickInterceptedException\n",
    "from selenium import webdriver\n",
    "import time\n",
    "import pandas as pd\n",
    "from tqdm import tqdm"
   ]
  },
  {
   "cell_type": "code",
   "execution_count": null,
   "metadata": {},
   "outputs": [],
   "source": [
    "brave_path = r\"C:\\Program Files (x86)\\BraveSoftware\\Brave-Browser\\Application\\brave.exe\"    \n",
    "    #Initializing the webdriver\n",
    "options = webdriver.ChromeOptions()\n",
    "options.binary_location = brave_path\n",
    "url='https://www.olx.in/'\n",
    "driver = webdriver.Chrome(executable_path='C:\\\\Users\\\\Wasim\\\\Desktop\\\\Data_science_Projects\\\\datascience_salary\\\\data collection\\\\chromedriver.exe', options=options)\n",
    "driver.get(url)\n",
    "time.sleep(5)\n",
    "rented=driver.find_element_by_xpath('//*[@id=\"container\"]/div[1]/div/div/div[1]/div[2]/div[7]/a/span')\n",
    "rented.click()\n",
    "time.sleep(5)"
   ]
  },
  {
   "cell_type": "code",
   "execution_count": null,
   "metadata": {},
   "outputs": [],
   "source": [
    "listoflinks=[]\n",
    "\n",
    "    #for LOAD MORE of houses\n",
    "s=42    \n",
    "for loads in range(0,10):\n",
    "\n",
    "    driver.find_element_by_xpath('//*[@id=\"container\"]/main/div/div/section/div/div/div[5]/div[2]/div/div[2]/ul/li['+str(s)+']/div/button').click()\n",
    "    #driver.find_element_by_xpath('//*[@id=\"container\"]/main/div/div/section/div/div/div[5]/div[2]/div/div[2]/ul/li[82]/div/button/span').click()\n",
    "    #driver.find_element_by_xpath('//*[@id=\"container\"]/main/div/div/section/div/div/div[5]/div[2]/div/div[2]/ul/li[122]/div/button/span')\n",
    "    time.sleep(5)\n",
    "    s=s+40\n",
    "    print(loads+1)"
   ]
  },
  {
   "cell_type": "code",
   "execution_count": null,
   "metadata": {},
   "outputs": [],
   "source": [
    "//*[@id=\"container\"]/main/div/div/section/div/div/div[5]/div[2]/div/div[2]/ul/li[506]/div/button"
   ]
  },
  {
   "cell_type": "code",
   "execution_count": null,
   "metadata": {},
   "outputs": [],
   "source": [
    "//*[@id=\"container\"]/main/div/div/section/div/div/div[5]/div[2]/div/div[2]/ul/li[402]/div/button/span"
   ]
  },
  {
   "cell_type": "code",
   "execution_count": null,
   "metadata": {},
   "outputs": [],
   "source": [
    "//*[@id=\"container\"]/main/div/div/section/div/div/div[5]/div[2]/div/div[2]/ul/li[122]/div/button"
   ]
  },
  {
   "cell_type": "code",
   "execution_count": null,
   "metadata": {},
   "outputs": [],
   "source": [
    "'//*[@id=\"container\"]/main/div/div/section/div/div/div[5]/div[2]/div/div[2]/ul/li['+str(s)+']/div/button/span'"
   ]
  },
  {
   "cell_type": "code",
   "execution_count": null,
   "metadata": {},
   "outputs": [],
   "source": [
    "//*[@id=\"container\"]/main/div/div/section/div/div/div[5]/div[2]/div/div[2]/ul/li[42]/div/button/span"
   ]
  },
  {
   "cell_type": "code",
   "execution_count": null,
   "metadata": {},
   "outputs": [],
   "source": [
    "//*[@id=\"container\"]/main/div/div/section/div/div/div[5]/div[2]/div/div[2]/ul/li[82]/div/button"
   ]
  },
  {
   "cell_type": "code",
   "execution_count": null,
   "metadata": {},
   "outputs": [],
   "source": [
    "productInfoList=driver.find_elements_by_class_name('EIR5N')\n",
    "for el in productInfoList:\n",
    "    try:\n",
    "        ppp1=el.find_element_by_tag_name('a')\n",
    "        listoflinks.append(ppp1.get_property('href'))\n",
    "    except NoSuchElementException:\n",
    "        print(\"Scraping terminated ..\")"
   ]
  },
  {
   "cell_type": "code",
   "execution_count": null,
   "metadata": {},
   "outputs": [],
   "source": [
    "overallinfo=[]\n",
    "for i in tqdm(listoflinks):\n",
    "    driver.get(i)\n",
    "    try:\n",
    "        types=driver.find_element_by_xpath('//*[@id=\"container\"]/main/div/div/div/div[4]/section[1]/div/div/div[1]/div/div[1]/div/span[2]').text\n",
    "        bed=driver.find_element_by_xpath('//*[@id=\"container\"]/main/div/div/div/div[4]/section[1]/div/div/div[1]/div/div[2]/div/span[2]').text\n",
    "        bath=driver.find_element_by_xpath('//*[@id=\"container\"]/main/div/div/div/div[4]/section[1]/div/div/div[1]/div/div[3]/div/span[2]').text\n",
    "        fur=driver.find_element_by_xpath('//*[@id=\"container\"]/main/div/div/div/div[4]/section[1]/div/div/div[1]/div/div[4]/div/span[2]').text\n",
    "        area=driver.find_element_by_xpath('//*[@id=\"container\"]/main/div/div/div/div[4]/section[1]/div/div/div[1]/div/div[7]/div/span[2]').text\n",
    "        face=driver.find_element_by_xpath('//*[@id=\"container\"]/main/div/div/div/div[4]/section[1]/div/div/div[1]/div/div[13]/div/span[2]').text\n",
    "        floors=driver.find_element_by_xpath('//*[@id=\"container\"]/main/div/div/div/div[4]/section[1]/div/div/div[1]/div/div[10]/div/span[2]').text\n",
    "        ment=driver.find_element_by_xpath('//*[@id=\"container\"]/main/div/div/div/div[4]/section[1]/div/div/div[1]/div/div[9]/div/span[2]').text\n",
    "        price=driver.find_element_by_xpath('//*[@id=\"container\"]/main/div/div/div/div[5]/div[1]/div/section/span[1]').text\n",
    "    except NoSuchElementException:\n",
    "        types = -1\n",
    "        bed = -1\n",
    "        bath = -1\n",
    "        fur = -1\n",
    "        area = -1\n",
    "        face = -1\n",
    "        floors= -1\n",
    "        ment=-1\n",
    "        price=-1\n",
    "            \n",
    "    tempJ={'Type':types,'bedroom':bed,'bathroom':bath,'furnishing':fur,'Carpet Area (ft²)':area,'Maintenance (Monthly)':ment,'facing':face,'Total floor':floors,'Rent':price}\n",
    "    overallinfo.append(tempJ) \n"
   ]
  },
  {
   "cell_type": "code",
   "execution_count": null,
   "metadata": {},
   "outputs": [],
   "source": [
    "data=pd.DataFrame(overallinfo)"
   ]
  },
  {
   "cell_type": "code",
   "execution_count": null,
   "metadata": {},
   "outputs": [],
   "source": [
    "data.head()"
   ]
  },
  {
   "cell_type": "code",
   "execution_count": null,
   "metadata": {},
   "outputs": [],
   "source": [
    "data.shape"
   ]
  },
  {
   "cell_type": "code",
   "execution_count": null,
   "metadata": {},
   "outputs": [],
   "source": [
    "brave_path = r\"C:\\Program Files (x86)\\BraveSoftware\\Brave-Browser\\Application\\brave.exe\"    \n",
    "    #Initializing the webdriver\n",
    "options = webdriver.ChromeOptions()\n",
    "options.binary_location = brave_path\n",
    "url='https://www.olx.in/for-rent-houses-apartments_c1723?filter=type_eq_rent-apartments_and_floors_and_houses'\n",
    "driver = webdriver.Chrome(executable_path='C:\\\\Users\\\\Wasim\\\\Desktop\\\\Data_science_Projects\\\\datascience_salary\\\\data collection\\\\chromedriver.exe', options=options)\n",
    "driver.get(url)"
   ]
  },
  {
   "cell_type": "code",
   "execution_count": null,
   "metadata": {},
   "outputs": [],
   "source": [
    "\n",
    "n_states=3"
   ]
  },
  {
   "cell_type": "code",
   "execution_count": null,
   "metadata": {},
   "outputs": [],
   "source": [
    "for state in range(1,n_states+1):\n",
    "    driver.find_element_by_xpath('//*[@id=\"container\"]/main/div/div/section/div/div/div[5]/div[1]/div/div[2]/div[3]/ul/li/ul/li['+str(state)+']/a').click()\n",
    "    time.sleep(10)\n",
    "    s=42\n",
    "    n_loads=3\n",
    "    for load in range(0,n_loads):\n",
    "    \n",
    "        listoflinks=[]\n",
    "        productInfoList=driver.find_elements_by_class_name('EIR5N')\n",
    "        for el in productInfoList:\n",
    "            try:\n",
    "                ppp1=el.find_element_by_tag_name('a')\n",
    "                listoflinks.append(ppp1.get_property('href'))\n",
    "            except NoSuchElementException:\n",
    "                print(\"Scraping terminated ..\")\n",
    "        driver.find_element_by_xpath('//*[@id=\"container\"]/main/div/div/section/div/div/div[5]/div[2]/div/div[3]/ul/li['+str(s)+']/div/button/span').click()\n",
    "        time.sleep(5)\n",
    "        print(load+1)\n",
    "        s=s+40\n",
    "    time.sleep(10)\n",
    "    driver.find_element_by_xpath('//*[@id=\"container\"]/main/div/div/section/div/div/div[5]/div[1]/div/div[2]/div[3]/ul/li/a/div/div[2]').click()\n",
    "    #driver.get(url)\n",
    "    time.sleep(10)\n",
    "    print('State :',state)\n",
    "        "
   ]
  },
  {
   "cell_type": "code",
   "execution_count": null,
   "metadata": {},
   "outputs": [],
   "source": [
    "driver.get(url)"
   ]
  },
  {
   "cell_type": "code",
   "execution_count": null,
   "metadata": {},
   "outputs": [],
   "source": [
    "st=driver.find_elements_by_class_name('_396bV _2zs4P _1nXYG')"
   ]
  },
  {
   "cell_type": "code",
   "execution_count": null,
   "metadata": {},
   "outputs": [],
   "source": [
    "st22=driver.find_elements_by_class_name('_3eZBP')"
   ]
  },
  {
   "cell_type": "code",
   "execution_count": null,
   "metadata": {},
   "outputs": [],
   "source": [
    "len(st22)"
   ]
  },
  {
   "cell_type": "code",
   "execution_count": null,
   "metadata": {
    "scrolled": true
   },
   "outputs": [],
   "source": [
    "for i in st22:\n",
    "    print(i.text)"
   ]
  },
  {
   "cell_type": "code",
   "execution_count": null,
   "metadata": {},
   "outputs": [],
   "source": [
    "listofstates=[]\n",
    "for e in st22:\n",
    "    s=e.find_elements_by_class_name('_396bV _2zs4P _1nXYG')\n",
    "    for i in s:\n",
    "        #ppp1=i.find_element_by_tag_name('a')\n",
    "        listofstates.append(i.get_property('href'))"
   ]
  },
  {
   "cell_type": "code",
   "execution_count": null,
   "metadata": {},
   "outputs": [],
   "source": [
    "listofstates"
   ]
  },
  {
   "cell_type": "code",
   "execution_count": null,
   "metadata": {},
   "outputs": [],
   "source": [
    "ppp1=driver.find_elements_by_tag_name('a')"
   ]
  },
  {
   "cell_type": "code",
   "execution_count": null,
   "metadata": {},
   "outputs": [],
   "source": [
    "ppp1"
   ]
  },
  {
   "cell_type": "code",
   "execution_count": null,
   "metadata": {},
   "outputs": [],
   "source": [
    "for j in ppp1:\n",
    "    print(j.text)"
   ]
  },
  {
   "cell_type": "code",
   "execution_count": null,
   "metadata": {},
   "outputs": [],
   "source": []
  },
  {
   "cell_type": "code",
   "execution_count": null,
   "metadata": {},
   "outputs": [],
   "source": []
  },
  {
   "cell_type": "code",
   "execution_count": null,
   "metadata": {},
   "outputs": [],
   "source": [
    "listofstates"
   ]
  },
  {
   "cell_type": "code",
   "execution_count": null,
   "metadata": {},
   "outputs": [],
   "source": [
    "driver.find_elements_by"
   ]
  },
  {
   "cell_type": "code",
   "execution_count": null,
   "metadata": {},
   "outputs": [],
   "source": [
    "st1111"
   ]
  },
  {
   "cell_type": "code",
   "execution_count": null,
   "metadata": {},
   "outputs": [],
   "source": []
  },
  {
   "cell_type": "code",
   "execution_count": null,
   "metadata": {},
   "outputs": [],
   "source": [
    "//*[@id=\"container\"]/main/div/div/section/div/div/div[5]/div[1]/div/div[2]/div[3]/ul/li/ul"
   ]
  },
  {
   "cell_type": "code",
   "execution_count": null,
   "metadata": {},
   "outputs": [],
   "source": [
    "driver.find_element_by_xpath('//*[@id=\"container\"]/main/div/div/section/div/div/div[5]/div[1]/div/div[2]/div[3]/ul/li/a').click()"
   ]
  },
  {
   "cell_type": "code",
   "execution_count": null,
   "metadata": {},
   "outputs": [],
   "source": [
    "ppp1=el.find_element_by_tag_name('a')\n",
    "listofindia=ppp1.get_property('href')"
   ]
  },
  {
   "cell_type": "code",
   "execution_count": null,
   "metadata": {},
   "outputs": [],
   "source": [
    "for el in productInfoList:\n",
    "    try:\n",
    "        ppp1=el.find_element_by_tag_name('a')\n",
    "        listofindia.append(ppp1.get_property('href'))"
   ]
  },
  {
   "cell_type": "code",
   "execution_count": null,
   "metadata": {},
   "outputs": [],
   "source": [
    "//*[@id=\"container\"]/main/div/div/section/div/div/div[5]/div[1]/div/div[2]/div[3]/ul/li/ul/li[1]/a"
   ]
  },
  {
   "cell_type": "code",
   "execution_count": null,
   "metadata": {},
   "outputs": [],
   "source": [
    "//*[@id=\"container\"]/main/div/div/section/div/div/div[5]/div[1]/div/div[2]/div[3]/ul/li/ul/li[2]/a"
   ]
  },
  {
   "cell_type": "code",
   "execution_count": null,
   "metadata": {},
   "outputs": [],
   "source": [
    "//*[@id=\"container\"]/main/div/div/section/div/div/div[5]/div[1]/div/div[2]/div[3]/ul/li/a"
   ]
  },
  {
   "cell_type": "code",
   "execution_count": null,
   "metadata": {},
   "outputs": [],
   "source": [
    "//*[@id=\"container\"]/main/div/div/section/div/div/div[5]/div[2]/div/div[3]/ul/li[162]/div/button"
   ]
  },
  {
   "cell_type": "code",
   "execution_count": null,
   "metadata": {},
   "outputs": [],
   "source": [
    "//*[@id=\"container\"]/main/div/div/section/div/div/div[5]/div[1]/div/div[2]/div[3]/ul/li/a"
   ]
  },
  {
   "cell_type": "code",
   "execution_count": null,
   "metadata": {},
   "outputs": [],
   "source": [
    "//*[@id=\"container\"]/main/div/div/section/div/div/div[5]/div[2]/div/div[3]/ul/li[506]/div/button/span"
   ]
  },
  {
   "cell_type": "code",
   "execution_count": null,
   "metadata": {},
   "outputs": [],
   "source": [
    "//*[@id=\"container\"]/main/div/div/section/div/div/div[5]/div[2]/div/div[3]/ul/li[506]/div/button/span"
   ]
  },
  {
   "cell_type": "code",
   "execution_count": null,
   "metadata": {},
   "outputs": [],
   "source": [
    "//*[@id=\"container\"]/main/div/div/section/div/div/div[5]/div[2]/div/div[3]/ul/li[42]/div/button/span"
   ]
  },
  {
   "cell_type": "code",
   "execution_count": null,
   "metadata": {},
   "outputs": [],
   "source": [
    "//*[@id=\"container\"]/main/div/div/section/div/div/div[5]/div[2]/div/div[3]/ul/li[42]/div/button/span"
   ]
  },
  {
   "cell_type": "code",
   "execution_count": null,
   "metadata": {},
   "outputs": [],
   "source": []
  },
  {
   "cell_type": "code",
   "execution_count": null,
   "metadata": {},
   "outputs": [],
   "source": [
    "len(listoflinks)"
   ]
  },
  {
   "cell_type": "code",
   "execution_count": null,
   "metadata": {},
   "outputs": [],
   "source": [
    "    overallinfo=[]\n",
    "    for i in tqdm(listoflinks):\n",
    "        driver.get(i)\n",
    "        try:\n",
    "            types=driver.find_element_by_xpath('//*[@id=\"container\"]/main/div/div/div/div[4]/section[1]/div/div/div[1]/div/div[1]/div/span[2]').text\n",
    "            bed=driver.find_element_by_xpath('//*[@id=\"container\"]/main/div/div/div/div[4]/section[1]/div/div/div[1]/div/div[2]/div/span[2]').text\n",
    "            bath=driver.find_element_by_xpath('//*[@id=\"container\"]/main/div/div/div/div[4]/section[1]/div/div/div[1]/div/div[3]/div/span[2]').text\n",
    "            fur=driver.find_element_by_xpath('//*[@id=\"container\"]/main/div/div/div/div[4]/section[1]/div/div/div[1]/div/div[4]/div/span[2]').text\n",
    "            area=driver.find_element_by_xpath('//*[@id=\"container\"]/main/div/div/div/div[4]/section[1]/div/div/div[1]/div/div[7]/div/span[2]').text\n",
    "            face=driver.find_element_by_xpath('//*[@id=\"container\"]/main/div/div/div/div[4]/section[1]/div/div/div[1]/div/div[13]/div/span[2]').text\n",
    "            floors=driver.find_element_by_xpath('//*[@id=\"container\"]/main/div/div/div/div[4]/section[1]/div/div/div[1]/div/div[10]/div/span[2]').text\n",
    "            ment=driver.find_element_by_xpath('//*[@id=\"container\"]/main/div/div/div/div[4]/section[1]/div/div/div[1]/div/div[9]/div/span[2]').text\n",
    "            price=driver.find_element_by_xpath('//*[@id=\"container\"]/main/div/div/div/div[5]/div[1]/div/section/span[1]').text\n",
    "        except NoSuchElementException:\n",
    "            types = -1\n",
    "            bed = -1\n",
    "            bath = -1\n",
    "            fur = -1\n",
    "            area = -1\n",
    "            face = -1\n",
    "            floors= -1\n",
    "            ment=-1\n",
    "            price=-1\n",
    "            \n",
    "        tempJ={'Type':types,'bedroom':bed,'bathroom':bath,'furnishing':fur,'Carpet Area (ft²)':area,'Maintenance (Monthly)':ment,'facing':face,'Total floor':floors,'Rent':price}\n",
    "        overallinfo.append(tempJ)"
   ]
  },
  {
   "cell_type": "code",
   "execution_count": null,
   "metadata": {},
   "outputs": [],
   "source": [
    "driver.find_element_by_xpath('//*[@id=\"container\"]/main/div/div/section/div/div/div[5]/div[1]/div/div[2]/div[3]/ul/li/ul/li['+str(1)+']/a').click()\n",
    "time.sleep(5)"
   ]
  },
  {
   "cell_type": "code",
   "execution_count": null,
   "metadata": {},
   "outputs": [],
   "source": [
    "driver.find_element_by_xpath('//*[@id=\"container\"]/main/div/div/section/div/div/div[5]/div[1]/div/div[2]/div[3]/ul/li/a/div/div[2]').click()"
   ]
  },
  {
   "cell_type": "code",
   "execution_count": null,
   "metadata": {},
   "outputs": [],
   "source": [
    "i=1\n",
    "driver.find_element_by_xpath('//*[@id=\"container\"]/main/div/div/section/div/div/div[5]/div[1]/div/div[2]/div[3]/ul/li/ul/li['+str(i)+']/a').click()\n",
    "time.sleep(10)\n",
    "s=42\n",
    "n_loads=2\n",
    "for load in range(0,n_loads):\n",
    "    \n",
    "    listoflinks=[]\n",
    "    productInfoList=driver.find_elements_by_class_name('EIR5N')\n",
    "    for el in productInfoList:\n",
    "        try:\n",
    "            ppp1=el.find_element_by_tag_name('a')\n",
    "            listoflinks.append(ppp1.get_property('href'))\n",
    "        except NoSuchElementException:\n",
    "            print(\"Scraping terminated ..\")\n",
    "    driver.find_element_by_xpath('//*[@id=\"container\"]/main/div/div/section/div/div/div[5]/div[2]/div/div[3]/ul/li['+str(s)+']/div/button/span').click()\n",
    "    time.sleep(5)\n",
    "    print(load+1)\n",
    "    s=s+40\n",
    "time.sleep(10)\n",
    "print('Goo d mOrning')\n",
    "i=i+1"
   ]
  },
  {
   "cell_type": "code",
   "execution_count": null,
   "metadata": {},
   "outputs": [],
   "source": [
    "from selenium.webdriver.common.keys import Keys"
   ]
  },
  {
   "cell_type": "code",
   "execution_count": null,
   "metadata": {},
   "outputs": [],
   "source": [
    "driver.find_element_by_tag_name('body').send_keys(Keys.CONTROL +Keys.NUMPAD7)"
   ]
  },
  {
   "cell_type": "code",
   "execution_count": null,
   "metadata": {},
   "outputs": [],
   "source": [
    "!Keys"
   ]
  },
  {
   "cell_type": "code",
   "execution_count": null,
   "metadata": {},
   "outputs": [],
   "source": [
    "driver.execute_script(\"scrollBy(0,-50000);\")"
   ]
  },
  {
   "cell_type": "code",
   "execution_count": 12,
   "metadata": {},
   "outputs": [
    {
     "name": "stdout",
     "output_type": "stream",
     "text": [
      "1\n",
      "2\n",
      "1\n",
      "2\n"
     ]
    }
   ],
   "source": [
    "\n",
    "brave_path = r\"C:\\Program Files (x86)\\BraveSoftware\\Brave-Browser\\Application\\brave.exe\"    \n",
    "#Initializing the webdriver\n",
    "options = webdriver.ChromeOptions()\n",
    "options.binary_location = brave_path\n",
    "url='https://www.olx.in/for-rent-houses-apartments_c1723?filter=type_eq_rent-apartments_and_floors_and_houses'\n",
    "#path=pathofdriver\n",
    "driver = webdriver.Chrome(executable_path=\"C:\\\\Users\\\\Wasim\\\\Desktop\\\\Data_science_Projects\\\\datascience_salary\\\\data collection\\\\chromedriver.exe\", options=options)\n",
    "driver.get(url)\n",
    "    \n",
    "time.sleep(10)\n",
    "\n",
    "listofitems=[]\n",
    "n_states=2\n",
    "n_loads=2\n",
    "for state in range(1,n_states+1):\n",
    "    driver.find_element_by_xpath('//*[@id=\"container\"]/main/div/div/section/div/div/div[5]/div[1]/div/div[2]/div[3]/ul/li/ul/li['+str(state)+']/a').click()\n",
    "    time.sleep(10)\n",
    "\n",
    "    #for LOAD MORE of houses\n",
    "\n",
    "    time.sleep(10)\n",
    "    s=42\n",
    "    no_loads=n_loads\n",
    "    for load in range(0,no_loads):\n",
    "        listoflinks=[]\n",
    "        productInfoList=driver.find_elements_by_class_name('EIR5N')\n",
    "        for el in productInfoList:\n",
    "            try:\n",
    "                ppp1=el.find_element_by_tag_name('a')\n",
    "                listoflinks.append(ppp1.get_property('href'))\n",
    "            except NoSuchElementException:\n",
    "                print(\"Scraping terminated ..\")\n",
    "        driver.find_element_by_xpath('//*[@id=\"container\"]/main/div/div/section/div/div/div[5]/div[2]/div/div[3]/ul/li['+str(s)+']/div/button/span').click()\n",
    "        time.sleep(5)\n",
    "        print(load+1)\n",
    "        s=s+40\n",
    "    listofitems.extend(listoflinks)\n",
    "    driver.execute_script(\"scrollBy(0,-50000);\")\n",
    "    driver.find_element_by_xpath('//*[@id=\"container\"]/main/div/div/section/div/div/div[5]/div[1]/div/div[2]/div[3]/ul/li/a/div/div[2]').click()\n",
    "    time.sleep(5)\n",
    "\n"
   ]
  },
  {
   "cell_type": "code",
   "execution_count": 17,
   "metadata": {},
   "outputs": [
    {
     "data": {
      "text/plain": [
       "[['https://www.olx.in/item/flat-available-on-rent-iid-1600735519',\n",
       "  'https://www.olx.in/item/1bhk-flat-on-rent-at-kharadi-iid-1578583939',\n",
       "  'https://www.olx.in/item/an-independent-room-in-a-bungalow-at-dhankawadi-near-bank-of-baraoda-iid-1614004383',\n",
       "  'https://www.olx.in/item/3bhk-with-3-balconies-servant-room-for-rent-near-viviana-mall-thane-iid-1612129124',\n",
       "  'https://www.olx.in/item/for-rent-my-room-im-khalapur-iid-1617008806',\n",
       "  'https://www.olx.in/item/located-in-a-prime-location-iid-1616322522',\n",
       "  'https://www.olx.in/item/1bhk-fully-furnished-on-rent-30k-chembur-bachelors-allowed-prime-locat-iid-1596828098',\n",
       "  'https://www.olx.in/item/2-bhk-rent-flat-baner-pancard-club-road-iid-1613319054',\n",
       "  'https://www.olx.in/item/2-bhk-flat-rent-bavdhan-iid-1613317658',\n",
       "  'https://www.olx.in/item/santosh-nagar-katraj-iid-1617007415',\n",
       "  'https://www.olx.in/item/good-location-available-for-family-and-bachelor-iid-1611448650',\n",
       "  'https://www.olx.in/item/1-bhk-semi-furnished-flat-for-rent-in-hiranandani-estate-walk-thane-iid-1606325534',\n",
       "  'https://www.olx.in/item/1rk-room-available-in-chawl-10-mins-walk-from-mankhurd-station-iid-1617006930',\n",
       "  'https://www.olx.in/item/1-bhk-flat-with-inverteracmunicipal-water-in-new-complex-9000-iid-1617006856',\n",
       "  'https://www.olx.in/item/mrprashant-iid-1617006096',\n",
       "  'https://www.olx.in/item/2bhk-heavy-deposit-in-jp-north-iid-1594717672',\n",
       "  'https://www.olx.in/item/2-bhk-forest-facing-flat-for-rent-and-sale-iid-1617005633',\n",
       "  'https://www.olx.in/item/open-location-near-market-mall-school-iid-1611221539',\n",
       "  'https://www.olx.in/item/2-room-for-family-iid-1617005297',\n",
       "  'https://www.olx.in/item/new-mhada-toweralad-west-iid-1595649532',\n",
       "  'https://www.olx.in/item/2-bhk-rental-property-ng-canary-mira-bhayandar-road-iid-1614498967',\n",
       "  'https://www.olx.in/item/2bhk-big-flat-for-rent-7500-ready-to-move-iid-1611711722',\n",
       "  'https://www.olx.in/item/manjari-for-couplesbachelors-fully-furnished-rooms-without-brokerage-iid-1616722447',\n",
       "  'https://www.olx.in/item/one-room-kitchen-iid-1617004976',\n",
       "  'https://www.olx.in/item/bedroom-in-a-3bhk-available-for-single-occupancy-for-a-female-iid-1617004434',\n",
       "  'https://www.olx.in/item/i-want-my-1bhk-flat-on-rent-2floor-in-excellent-condition-in-kondhwa-k-iid-1617004412',\n",
       "  'https://www.olx.in/item/1bhk-house-on-rent-bt-kawade-road-iid-1598247243',\n",
       "  'https://www.olx.in/item/duplex-house-in-a-gated-colony-with-garden-and-adequat-water-iid-1617004218',\n",
       "  'https://www.olx.in/item/2-wheeler-parking-water-facility-electricity-supply-iid-1617003891',\n",
       "  'https://www.olx.in/item/omkar-nagar-1-bhk-house-iid-1617003845',\n",
       "  'https://www.olx.in/item/1bhk-on-rent-in-kurla-west-iid-1617003811',\n",
       "  'https://www.olx.in/item/fully-furnished-1bhk-studio-apartment-available-for-rent-iid-1617003276',\n",
       "  'https://www.olx.in/item/1bhk-flat-for-rent-in-dhanori-location-iid-1611665989',\n",
       "  'https://www.olx.in/item/dighori-2-bhk-flat-iid-1617002483',\n",
       "  'https://www.olx.in/item/road-facing-iid-1617002440',\n",
       "  'https://www.olx.in/item/fully-furnished-2bhk-in-andheri-east-midc-seepz-iid-1617002383',\n",
       "  'https://www.olx.in/item/2-bhk-rent-flat-in-baner-iid-1613313059',\n",
       "  'https://www.olx.in/item/omkar-nagar-2-revti-nagar-2-bhk-flat-iid-1617001808',\n",
       "  'https://www.olx.in/item/1-bhk1-dining-house-is-ready-for-rent-k-immediately-iid-1617001360',\n",
       "  'https://www.olx.in/item/shree-avenue-near-hatkesh-iid-1613487116',\n",
       "  'https://www.olx.in/item/5000-rent-20k-deposite-with-one-month-rent-brokrage-iid-1608882040',\n",
       "  'https://www.olx.in/item/for-rent-to-family-iid-1614286957',\n",
       "  'https://www.olx.in/item/spacious-1-bhk-near-khese-park-behind-pune-airport-iid-1565736229',\n",
       "  'https://www.olx.in/item/flat-1-bhk-to-sell-just-rs-23-lac-negotiable-with-good-connectivity-iid-1600616740',\n",
       "  'https://www.olx.in/item/2bhk-for-rent-in-sky-heights-undri-iid-1616987480',\n",
       "  'https://www.olx.in/item/row-house-for-rent-iid-1616987461',\n",
       "  'https://www.olx.in/item/3-bhk-rent-in-chembur-east-iid-1615696312',\n",
       "  'https://www.olx.in/item/2-floor-room-in-chawl-with-private-water-line-iid-1616987011',\n",
       "  'https://www.olx.in/item/3bhk-for-rent-in-arv-newtown-undri-iid-1616986768',\n",
       "  'https://www.olx.in/item/1bhk-marathon-neo-valley-bhandup-w-mumbai-iid-1616986512',\n",
       "  'https://www.olx.in/item/near-bhairav-residency-iid-1616821218',\n",
       "  'https://www.olx.in/item/cluster-1-balaji-hotel-iid-1603933578',\n",
       "  'https://www.olx.in/item/2-bhk-on-rent-iid-1600022301',\n",
       "  'https://www.olx.in/item/2-bhk-flat-on-rent-iid-1598800075',\n",
       "  'https://www.olx.in/item/near-by-vijay-park-iid-1607044840',\n",
       "  'https://www.olx.in/item/vijay-park-near-amber-plaza-iid-1605458407',\n",
       "  'https://www.olx.in/item/mu-apt-near-asmita-colleage-iid-1605262854',\n",
       "  'https://www.olx.in/item/market-ramdev-park-iid-1604882732',\n",
       "  'https://www.olx.in/item/sai-enclave-mira-road-kanakia-iid-1604525169',\n",
       "  'https://www.olx.in/item/unique-castle-mira-road-east-iid-1604523825',\n",
       "  'https://www.olx.in/item/2-bhk-flat-iid-1612493138',\n",
       "  'https://www.olx.in/item/15bhk-rental-flat-in-db-ozone-nr-dahisar-checknaka-at-15000-iid-1239464013',\n",
       "  'https://www.olx.in/item/arkade-ark-near-vinag-nagar-iid-1616099910',\n",
       "  'https://www.olx.in/item/rent-for-1-bhk-rs7000-iid-1616984506',\n",
       "  'https://www.olx.in/item/working-flat-mate-male-required-iid-1616984294',\n",
       "  'https://www.olx.in/item/malad-west-malwani-kachha-rode-jhumka-bakar-iid-1616984085',\n",
       "  'https://www.olx.in/item/1bhk-flat-for-rent-in-casa-rio-palava-city-iid-1596959862',\n",
       "  'https://www.olx.in/item/hingana-road-anand-nagar-khadan-akola-iid-1616983578',\n",
       "  'https://www.olx.in/item/flat-for-rent-and-sell-in-well-developed-area-iid-1616983150',\n",
       "  'https://www.olx.in/item/fully-furnished-flat-iid-1616983120',\n",
       "  'https://www.olx.in/item/2bhk-flat-for-rent-bachelors-girls-only-iid-1611252483',\n",
       "  'https://www.olx.in/item/house-available-on-rent-in-nagpur-rameshwari-iid-1616982467',\n",
       "  'https://www.olx.in/item/2-bhk-rent-flat-in-baner-iid-1613293799',\n",
       "  'https://www.olx.in/item/required-1-male-roommate-at-karvenagar-iid-1616981595',\n",
       "  'https://www.olx.in/item/1rk-flat-in-bhoomi-park-iid-1616981411',\n",
       "  'https://www.olx.in/item/house-for-rent-iid-1616981326',\n",
       "  'https://www.olx.in/item/one-room-kitchen-iid-1616981317',\n",
       "  'https://www.olx.in/item/i-want-to-a-room-mate-rent-is-1500-iid-1616981157',\n",
       "  'https://www.olx.in/item/1bhk-at-affordable-prices-tulip-mantri-park-iid-1616980996',\n",
       "  'https://www.olx.in/item/super-spacious-house-apartment-for-rent-iid-1616980575'],\n",
       " ['https://www.olx.in/item/fully-furnished-ac-villa-for-daily-weeklymonthly-rental-iid-1596024474',\n",
       "  'https://www.olx.in/item/house-for-rent-iid-1611368592',\n",
       "  'https://www.olx.in/item/4-bhk-beautiful-independent-house-for-rent-at-pattom-post-office-lane-iid-1571758730',\n",
       "  'https://www.olx.in/item/2-bhk-for-rent-iid-1617009554',\n",
       "  'https://www.olx.in/item/near-matha-caritas-hospitals-kottayam-flat-for-rent-iid-1617009505',\n",
       "  'https://www.olx.in/item/2bhk-ground-floor-apartment-rent-near-vennala-high-school-iid-1617009192',\n",
       "  'https://www.olx.in/item/home-elamakkara-near-perandoor-iid-1617009188',\n",
       "  'https://www.olx.in/item/2-bhk-full-furnished-flat-for-rent-at-civil-station-calicut-iid-1617009007',\n",
       "  'https://www.olx.in/item/house-for-rent-iid-1617008732',\n",
       "  'https://www.olx.in/item/aluva-kadungalloor-beautiful-house-full-furnished-house-rent-iid-1569493408',\n",
       "  'https://www.olx.in/item/i-want-hostel-building-for-rent-kaloor-near-bus-stand-at-lulu-area-iid-1615720628',\n",
       "  'https://www.olx.in/item/luxury-3bhk-furnished-flat-seaport-kakkanad-iid-1613493493',\n",
       "  'https://www.olx.in/item/premium-3bhk-furnished-flat-at-sfs-kakkanad-iid-1613492252',\n",
       "  'https://www.olx.in/item/aluva-thottakattukara-beautiful-house-rent-iid-1595712466',\n",
       "  'https://www.olx.in/item/a-flat-for-rent-at-poomkunnam-thrissur-iid-1601977282',\n",
       "  'https://www.olx.in/item/furnished-flat-for-rent-near-swaraj-round-thrissur-iid-1601797317',\n",
       "  'https://www.olx.in/item/house-up-stairs-for-rent-at-ayyanthole-thrissur-iid-1601308882',\n",
       "  'https://www.olx.in/item/2bhk-house-for-rent-in-eroor-tripunithura-iid-1616175847',\n",
       "  'https://www.olx.in/item/pettah-pallimukku-iid-1617007308',\n",
       "  'https://www.olx.in/item/2bhk-home-for-rent-iid-1617006383',\n",
       "  'https://www.olx.in/item/branded-3-bhk-semi-furnished-villa-for-rent-at-ramanattukara-calicut-iid-1611235931',\n",
       "  'https://www.olx.in/item/four-persons-rooms-each-3000-two-person-rooms-each-4000-iid-1611830109',\n",
       "  'https://www.olx.in/item/three-bedroom-apartment-at-pongummoodu-main-road-facing-iid-1616553732',\n",
       "  'https://www.olx.in/item/3bhk-flat-to-rent-aluva-town-near-temple-federal-bank-metro-etc-iid-1617006377',\n",
       "  'https://www.olx.in/item/3-bhk-for-rent-iid-1617006349',\n",
       "  'https://www.olx.in/item/9000-2bhk-apartment-for-rent-iid-1617006020',\n",
       "  'https://www.olx.in/item/convenient-location-iid-1617005199',\n",
       "  'https://www.olx.in/item/confident-indusvennala-flat-for-rent-iid-1617004949',\n",
       "  'https://www.olx.in/item/first-floor-iid-1617004414',\n",
       "  'https://www.olx.in/item/newly-inaugurated-quarters-only-family-iid-1617004343',\n",
       "  'https://www.olx.in/item/apartment-for-rent--iid-1617004307',\n",
       "  'https://www.olx.in/item/flat-for-rent-iid-1617003969',\n",
       "  'https://www.olx.in/item/3bhk-luxury-furnished-flat-for-rent-at-landmark-world-palazhi-iid-1617003642',\n",
       "  'https://www.olx.in/item/rooms-for-rent-kakkanad-ngo-quarters-iid-1617003547',\n",
       "  'https://www.olx.in/item/one-single-bed-room-bath-attached-at-ernakulam-for-bachelors-iid-1617002418',\n",
       "  'https://www.olx.in/item/houses-for-rent-in-trivandrum-city-iid-1617002098',\n",
       "  'https://www.olx.in/item/good-house-for-rend-iid-1617001777',\n",
       "  'https://www.olx.in/item/urgent-newly-furnished-2bhk-appartment-for-rent-iid-1617001618',\n",
       "  'https://www.olx.in/item/independent-new-contemporary-house-for-rent-iid-1617001134',\n",
       "  'https://www.olx.in/item/indipendent-3-bedroom-house-rent-neardhanalaxmi-hospital-kannur-town-iid-1617000839',\n",
       "  'https://www.olx.in/item/3-bhk-flat-for-rent-at-chakkaraparambu-vennala-ernakulam-iid-1599645283',\n",
       "  'https://www.olx.in/item/near-mary-mount-public-school-kattachira-iid-1612345752',\n",
       "  'https://www.olx.in/item/2bhk-for-doctors-iid-1613260549',\n",
       "  'https://www.olx.in/item/house-rent-near-aisat-college-or-food-o-food-iid-1616978908',\n",
       "  'https://www.olx.in/item/2bhk-first-floor-house-for-rent-at-elamkara-9000--iid-1616978895',\n",
       "  'https://www.olx.in/item/3000-sqft-4-storie-commercial-space-at-aluva-main-road-front-iid-1558758909',\n",
       "  'https://www.olx.in/item/rooms-available-for-daily-rent-munnar-iid-1616978747',\n",
       "  'https://www.olx.in/item/pg-accommadation-for-ladies-at-karamana-iid-1616978736',\n",
       "  'https://www.olx.in/item/house-for-rent-near-in-city-center-iid-1616978702',\n",
       "  'https://www.olx.in/item/1bhk-semi-furnishd-apartment-near-lulu-mall-iid-1604708172',\n",
       "  'https://www.olx.in/item/4-bhk-2400-sqft-posh-furnishrd-house-at-aluva-near-uc-collage-iid-1567405237',\n",
       "  'https://www.olx.in/item/house-for-rent-vaduthala-mra-43-iid-1616977462',\n",
       "  'https://www.olx.in/item/3-bhk-house-for-rent-between-balaramapuram-and-peringamala-iid-1616977380',\n",
       "  'https://www.olx.in/item/rooms-for-daily-rent-at-munnar-iid-1616976873',\n",
       "  'https://www.olx.in/item/house-for-sale-in-pudussery-palakkad-iid-1607802787',\n",
       "  'https://www.olx.in/item/6bhk-commercial-space-plamoodu-suitable-for-dental-clinic-iid-1616976652',\n",
       "  'https://www.olx.in/item/2two-bhk-single-house-for-rent-at-karamana-nedumcaud-soman-nagar-iid-1616976384',\n",
       "  'https://www.olx.in/item/ac-rooms-with-tv-breakfast-iid-1616975811',\n",
       "  'https://www.olx.in/item/its-realy-good-iid-1616974286',\n",
       "  'https://www.olx.in/item/house-for-rent-kowdiar-iid-1615913738',\n",
       "  'https://www.olx.in/item/1bhk-apartment-for-rent-nearw-kakanad-collectarate-iid-1548182366',\n",
       "  'https://www.olx.in/item/1-bhk-semi-furnished-residential-space-at-kuravankonam-kowdiar-iid-1615124085',\n",
       "  'https://www.olx.in/item/fully-furnished-new-apartment-for-short-term-and-long-term-rent-iid-1615733651',\n",
       "  'https://www.olx.in/item/2-bhk-home-for-rent-iid-1616974122',\n",
       "  'https://www.olx.in/item/furnished-flat-for-rent-in-thrissur-town-iid-1612094208',\n",
       "  'https://www.olx.in/item/2-bhk-luxury-flat-in-edachira-near-infopark-iid-1615501838',\n",
       "  'https://www.olx.in/item/2-bhk-semi-furnished-flat-near-civil-station-iid-1615501198',\n",
       "  'https://www.olx.in/item/house-for-lease-iid-1616970679',\n",
       "  'https://www.olx.in/item/3-bhk-semi-furnished-flat-near-infopark-and-smart-city-iid-1615499742',\n",
       "  'https://www.olx.in/item/eroor-2bhk-indipeded-house-iid-1616969633',\n",
       "  'https://www.olx.in/item/3bhk-house-kovoor-iid-1616969410',\n",
       "  'https://www.olx.in/item/2-bhk-attached-apartment-kotooli-iid-1616969354',\n",
       "  'https://www.olx.in/item/3-bhk-independant-villa-for-rent-at-pirayiri-palakkad-iid-1616969239',\n",
       "  'https://www.olx.in/item/3bhk-house-for-rent-first-floor-kudappanakunnu-near-st-thomas-shool-iid-1616968081',\n",
       "  'https://www.olx.in/item/2-bhk-new-house-first-floor-palarivattam-iid-1615496163',\n",
       "  'https://www.olx.in/item/bachelors-house-west-fort-iid-1610575113',\n",
       "  'https://www.olx.in/item/lease-agreement-for-25-lakhs-iid-1616966665',\n",
       "  'https://www.olx.in/item/1bhk-semi-furnished-house-for-rent-at-kaloor-7000-ground-floor-iid-1616966603',\n",
       "  'https://www.olx.in/item/2-bhk-flat-for-rent-nr-jayalakshmi-silks-west-fort-jn-thrissur-tn-iid-1616965519',\n",
       "  'https://www.olx.in/item/rent-flat-appartment-in-the-main-city-iid-1616965054']]"
      ]
     },
     "execution_count": 17,
     "metadata": {},
     "output_type": "execute_result"
    }
   ],
   "source": [
    "listofitems\n"
   ]
  },
  {
   "cell_type": "code",
   "execution_count": 14,
   "metadata": {},
   "outputs": [
    {
     "name": "stderr",
     "output_type": "stream",
     "text": [
      "  0%|                                                                                            | 0/2 [00:00<?, ?it/s]\n"
     ]
    },
    {
     "ename": "InvalidArgumentException",
     "evalue": "Message: invalid argument: 'url' must be a string\n  (Session info: chrome=87.0.4280.141)\n",
     "output_type": "error",
     "traceback": [
      "\u001b[1;31m---------------------------------------------------------------------------\u001b[0m",
      "\u001b[1;31mInvalidArgumentException\u001b[0m                  Traceback (most recent call last)",
      "\u001b[1;32m<ipython-input-14-22700593e781>\u001b[0m in \u001b[0;36m<module>\u001b[1;34m\u001b[0m\n\u001b[0;32m      3\u001b[0m \u001b[1;33m\u001b[0m\u001b[0m\n\u001b[0;32m      4\u001b[0m \u001b[1;32mfor\u001b[0m \u001b[0mi\u001b[0m \u001b[1;32min\u001b[0m \u001b[0mtqdm\u001b[0m\u001b[1;33m(\u001b[0m\u001b[0mlistofitems\u001b[0m\u001b[1;33m)\u001b[0m\u001b[1;33m:\u001b[0m\u001b[1;33m\u001b[0m\u001b[1;33m\u001b[0m\u001b[0m\n\u001b[1;32m----> 5\u001b[1;33m     \u001b[0mdriver\u001b[0m\u001b[1;33m.\u001b[0m\u001b[0mget\u001b[0m\u001b[1;33m(\u001b[0m\u001b[0mi\u001b[0m\u001b[1;33m)\u001b[0m\u001b[1;33m\u001b[0m\u001b[1;33m\u001b[0m\u001b[0m\n\u001b[0m\u001b[0;32m      6\u001b[0m     \u001b[1;32mtry\u001b[0m\u001b[1;33m:\u001b[0m\u001b[1;33m\u001b[0m\u001b[1;33m\u001b[0m\u001b[0m\n\u001b[0;32m      7\u001b[0m         \u001b[0mtypes\u001b[0m\u001b[1;33m=\u001b[0m\u001b[0mdriver\u001b[0m\u001b[1;33m.\u001b[0m\u001b[0mfind_element_by_xpath\u001b[0m\u001b[1;33m(\u001b[0m\u001b[1;34m'//*[@id=\"container\"]/main/div/div/div/div[4]/section[1]/div/div/div[1]/div/div[1]/div/span[2]'\u001b[0m\u001b[1;33m)\u001b[0m\u001b[1;33m.\u001b[0m\u001b[0mtext\u001b[0m\u001b[1;33m\u001b[0m\u001b[1;33m\u001b[0m\u001b[0m\n",
      "\u001b[1;32m~\\anaconda3\\lib\\site-packages\\selenium\\webdriver\\remote\\webdriver.py\u001b[0m in \u001b[0;36mget\u001b[1;34m(self, url)\u001b[0m\n\u001b[0;32m    331\u001b[0m         \u001b[0mLoads\u001b[0m \u001b[0ma\u001b[0m \u001b[0mweb\u001b[0m \u001b[0mpage\u001b[0m \u001b[1;32min\u001b[0m \u001b[0mthe\u001b[0m \u001b[0mcurrent\u001b[0m \u001b[0mbrowser\u001b[0m \u001b[0msession\u001b[0m\u001b[1;33m.\u001b[0m\u001b[1;33m\u001b[0m\u001b[1;33m\u001b[0m\u001b[0m\n\u001b[0;32m    332\u001b[0m         \"\"\"\n\u001b[1;32m--> 333\u001b[1;33m         \u001b[0mself\u001b[0m\u001b[1;33m.\u001b[0m\u001b[0mexecute\u001b[0m\u001b[1;33m(\u001b[0m\u001b[0mCommand\u001b[0m\u001b[1;33m.\u001b[0m\u001b[0mGET\u001b[0m\u001b[1;33m,\u001b[0m \u001b[1;33m{\u001b[0m\u001b[1;34m'url'\u001b[0m\u001b[1;33m:\u001b[0m \u001b[0murl\u001b[0m\u001b[1;33m}\u001b[0m\u001b[1;33m)\u001b[0m\u001b[1;33m\u001b[0m\u001b[1;33m\u001b[0m\u001b[0m\n\u001b[0m\u001b[0;32m    334\u001b[0m \u001b[1;33m\u001b[0m\u001b[0m\n\u001b[0;32m    335\u001b[0m     \u001b[1;33m@\u001b[0m\u001b[0mproperty\u001b[0m\u001b[1;33m\u001b[0m\u001b[1;33m\u001b[0m\u001b[0m\n",
      "\u001b[1;32m~\\anaconda3\\lib\\site-packages\\selenium\\webdriver\\remote\\webdriver.py\u001b[0m in \u001b[0;36mexecute\u001b[1;34m(self, driver_command, params)\u001b[0m\n\u001b[0;32m    319\u001b[0m         \u001b[0mresponse\u001b[0m \u001b[1;33m=\u001b[0m \u001b[0mself\u001b[0m\u001b[1;33m.\u001b[0m\u001b[0mcommand_executor\u001b[0m\u001b[1;33m.\u001b[0m\u001b[0mexecute\u001b[0m\u001b[1;33m(\u001b[0m\u001b[0mdriver_command\u001b[0m\u001b[1;33m,\u001b[0m \u001b[0mparams\u001b[0m\u001b[1;33m)\u001b[0m\u001b[1;33m\u001b[0m\u001b[1;33m\u001b[0m\u001b[0m\n\u001b[0;32m    320\u001b[0m         \u001b[1;32mif\u001b[0m \u001b[0mresponse\u001b[0m\u001b[1;33m:\u001b[0m\u001b[1;33m\u001b[0m\u001b[1;33m\u001b[0m\u001b[0m\n\u001b[1;32m--> 321\u001b[1;33m             \u001b[0mself\u001b[0m\u001b[1;33m.\u001b[0m\u001b[0merror_handler\u001b[0m\u001b[1;33m.\u001b[0m\u001b[0mcheck_response\u001b[0m\u001b[1;33m(\u001b[0m\u001b[0mresponse\u001b[0m\u001b[1;33m)\u001b[0m\u001b[1;33m\u001b[0m\u001b[1;33m\u001b[0m\u001b[0m\n\u001b[0m\u001b[0;32m    322\u001b[0m             response['value'] = self._unwrap_value(\n\u001b[0;32m    323\u001b[0m                 response.get('value', None))\n",
      "\u001b[1;32m~\\anaconda3\\lib\\site-packages\\selenium\\webdriver\\remote\\errorhandler.py\u001b[0m in \u001b[0;36mcheck_response\u001b[1;34m(self, response)\u001b[0m\n\u001b[0;32m    240\u001b[0m                 \u001b[0malert_text\u001b[0m \u001b[1;33m=\u001b[0m \u001b[0mvalue\u001b[0m\u001b[1;33m[\u001b[0m\u001b[1;34m'alert'\u001b[0m\u001b[1;33m]\u001b[0m\u001b[1;33m.\u001b[0m\u001b[0mget\u001b[0m\u001b[1;33m(\u001b[0m\u001b[1;34m'text'\u001b[0m\u001b[1;33m)\u001b[0m\u001b[1;33m\u001b[0m\u001b[1;33m\u001b[0m\u001b[0m\n\u001b[0;32m    241\u001b[0m             \u001b[1;32mraise\u001b[0m \u001b[0mexception_class\u001b[0m\u001b[1;33m(\u001b[0m\u001b[0mmessage\u001b[0m\u001b[1;33m,\u001b[0m \u001b[0mscreen\u001b[0m\u001b[1;33m,\u001b[0m \u001b[0mstacktrace\u001b[0m\u001b[1;33m,\u001b[0m \u001b[0malert_text\u001b[0m\u001b[1;33m)\u001b[0m\u001b[1;33m\u001b[0m\u001b[1;33m\u001b[0m\u001b[0m\n\u001b[1;32m--> 242\u001b[1;33m         \u001b[1;32mraise\u001b[0m \u001b[0mexception_class\u001b[0m\u001b[1;33m(\u001b[0m\u001b[0mmessage\u001b[0m\u001b[1;33m,\u001b[0m \u001b[0mscreen\u001b[0m\u001b[1;33m,\u001b[0m \u001b[0mstacktrace\u001b[0m\u001b[1;33m)\u001b[0m\u001b[1;33m\u001b[0m\u001b[1;33m\u001b[0m\u001b[0m\n\u001b[0m\u001b[0;32m    243\u001b[0m \u001b[1;33m\u001b[0m\u001b[0m\n\u001b[0;32m    244\u001b[0m     \u001b[1;32mdef\u001b[0m \u001b[0m_value_or_default\u001b[0m\u001b[1;33m(\u001b[0m\u001b[0mself\u001b[0m\u001b[1;33m,\u001b[0m \u001b[0mobj\u001b[0m\u001b[1;33m,\u001b[0m \u001b[0mkey\u001b[0m\u001b[1;33m,\u001b[0m \u001b[0mdefault\u001b[0m\u001b[1;33m)\u001b[0m\u001b[1;33m:\u001b[0m\u001b[1;33m\u001b[0m\u001b[1;33m\u001b[0m\u001b[0m\n",
      "\u001b[1;31mInvalidArgumentException\u001b[0m: Message: invalid argument: 'url' must be a string\n  (Session info: chrome=87.0.4280.141)\n"
     ]
    }
   ],
   "source": [
    "#listofitem=get_information(path,3,2)\n",
    "overallinfo=[]\n",
    "\n",
    "for i in tqdm(listofitems):\n",
    "    driver.get(i)\n",
    "    try:\n",
    "        types=driver.find_element_by_xpath('//*[@id=\"container\"]/main/div/div/div/div[4]/section[1]/div/div/div[1]/div/div[1]/div/span[2]').text\n",
    "        bed=driver.find_element_by_xpath('//*[@id=\"container\"]/main/div/div/div/div[4]/section[1]/div/div/div[1]/div/div[2]/div/span[2]').text\n",
    "        bath=driver.find_element_by_xpath('//*[@id=\"container\"]/main/div/div/div/div[4]/section[1]/div/div/div[1]/div/div[3]/div/span[2]').text\n",
    "        fur=driver.find_element_by_xpath('//*[@id=\"container\"]/main/div/div/div/div[4]/section[1]/div/div/div[1]/div/div[4]/div/span[2]').text\n",
    "        area=driver.find_element_by_xpath('//*[@id=\"container\"]/main/div/div/div/div[4]/section[1]/div/div/div[1]/div/div[7]/div/span[2]').text\n",
    "        face=driver.find_element_by_xpath('//*[@id=\"container\"]/main/div/div/div/div[4]/section[1]/div/div/div[1]/div/div[13]/div/span[2]').text\n",
    "        floors=driver.find_element_by_xpath('//*[@id=\"container\"]/main/div/div/div/div[4]/section[1]/div/div/div[1]/div/div[10]/div/span[2]').text\n",
    "        ment=driver.find_element_by_xpath('//*[@id=\"container\"]/main/div/div/div/div[4]/section[1]/div/div/div[1]/div/div[9]/div/span[2]').text\n",
    "        price=driver.find_element_by_xpath('//*[@id=\"container\"]/main/div/div/div/div[5]/div[1]/div/section/span[1]').text\n",
    "    except NoSuchElementException:\n",
    "        types = -1\n",
    "        bed = -1\n",
    "        bath = -1\n",
    "        fur = -1\n",
    "        area = -1\n",
    "        face = -1\n",
    "        floors= -1\n",
    "        ment=-1\n",
    "        price=-1\n",
    "            \n",
    "    tempJ={'Type':types,'bedroom':bed,'bathroom':bath,'furnishing':fur,'Carpet Area (ft²)':area,'Maintenance (Monthly)':ment,'facing':face,'Total floor':floors,'Rent':price}\n",
    "    overallinfo.append(tempJ) \n",
    " "
   ]
  },
  {
   "cell_type": "code",
   "execution_count": 6,
   "metadata": {},
   "outputs": [],
   "source": [
    "path = \"C:\\\\Users\\\\Wasim\\\\Desktop\\\\Data_science_Projects\\\\datascience_salary\\\\data collection\\\\chromedriver.exe\"\n",
    "rows=1000\n",
    "#df =get_information(path,5,3)\n",
    "\n",
    "#df.to_csv('olx_rent_data.csv', index = False)"
   ]
  },
  {
   "cell_type": "code",
   "execution_count": null,
   "metadata": {},
   "outputs": [],
   "source": []
  }
 ],
 "metadata": {
  "kernelspec": {
   "display_name": "Python 3",
   "language": "python",
   "name": "python3"
  },
  "language_info": {
   "codemirror_mode": {
    "name": "ipython",
    "version": 3
   },
   "file_extension": ".py",
   "mimetype": "text/x-python",
   "name": "python",
   "nbconvert_exporter": "python",
   "pygments_lexer": "ipython3",
   "version": "3.7.9"
  }
 },
 "nbformat": 4,
 "nbformat_minor": 4
}
