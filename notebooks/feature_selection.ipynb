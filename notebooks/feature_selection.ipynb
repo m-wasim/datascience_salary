{
 "cells": [
  {
   "cell_type": "code",
   "execution_count": 1,
   "metadata": {},
   "outputs": [],
   "source": [
    "import pandas as pd\n",
    "import numpy as np\n",
    "import matplotlib.pyplot as plt\n",
    "%matplotlib inline\n",
    "# to visualise al the columns in the dataframe\n",
    "pd.pandas.set_option('display.max_columns', None)"
   ]
  },
  {
   "cell_type": "code",
   "execution_count": 2,
   "metadata": {},
   "outputs": [],
   "source": [
    "data=pd.read_csv('eda_data.csv')"
   ]
  },
  {
   "cell_type": "code",
   "execution_count": 4,
   "metadata": {},
   "outputs": [],
   "source": [
    "data.drop(columns='Unnamed: 0',inplace=True)"
   ]
  },
  {
   "cell_type": "code",
   "execution_count": 5,
   "metadata": {},
   "outputs": [
    {
     "data": {
      "text/html": [
       "<div>\n",
       "<style scoped>\n",
       "    .dataframe tbody tr th:only-of-type {\n",
       "        vertical-align: middle;\n",
       "    }\n",
       "\n",
       "    .dataframe tbody tr th {\n",
       "        vertical-align: top;\n",
       "    }\n",
       "\n",
       "    .dataframe thead th {\n",
       "        text-align: right;\n",
       "    }\n",
       "</style>\n",
       "<table border=\"1\" class=\"dataframe\">\n",
       "  <thead>\n",
       "    <tr style=\"text-align: right;\">\n",
       "      <th></th>\n",
       "      <th>bedroom</th>\n",
       "      <th>bathroom</th>\n",
       "      <th>Total floor</th>\n",
       "      <th>Rent</th>\n",
       "      <th>Carpet Area (ft²)nan</th>\n",
       "      <th>Maintenance (Monthly)nan</th>\n",
       "      <th>Carpet Area (ft²)</th>\n",
       "      <th>Maintenance (Monthly)</th>\n",
       "    </tr>\n",
       "  </thead>\n",
       "  <tbody>\n",
       "    <tr>\n",
       "      <th>bedroom</th>\n",
       "      <td>1.000000</td>\n",
       "      <td>0.782119</td>\n",
       "      <td>0.108079</td>\n",
       "      <td>0.244566</td>\n",
       "      <td>-0.002115</td>\n",
       "      <td>-0.017278</td>\n",
       "      <td>0.453222</td>\n",
       "      <td>0.102251</td>\n",
       "    </tr>\n",
       "    <tr>\n",
       "      <th>bathroom</th>\n",
       "      <td>0.782119</td>\n",
       "      <td>1.000000</td>\n",
       "      <td>0.165635</td>\n",
       "      <td>0.225180</td>\n",
       "      <td>-0.010338</td>\n",
       "      <td>-0.019968</td>\n",
       "      <td>0.385555</td>\n",
       "      <td>0.107122</td>\n",
       "    </tr>\n",
       "    <tr>\n",
       "      <th>Total floor</th>\n",
       "      <td>0.108079</td>\n",
       "      <td>0.165635</td>\n",
       "      <td>1.000000</td>\n",
       "      <td>0.095984</td>\n",
       "      <td>-0.099316</td>\n",
       "      <td>-0.171265</td>\n",
       "      <td>0.087336</td>\n",
       "      <td>0.007397</td>\n",
       "    </tr>\n",
       "    <tr>\n",
       "      <th>Rent</th>\n",
       "      <td>0.244566</td>\n",
       "      <td>0.225180</td>\n",
       "      <td>0.095984</td>\n",
       "      <td>1.000000</td>\n",
       "      <td>-0.021914</td>\n",
       "      <td>0.008740</td>\n",
       "      <td>0.207871</td>\n",
       "      <td>0.106785</td>\n",
       "    </tr>\n",
       "    <tr>\n",
       "      <th>Carpet Area (ft²)nan</th>\n",
       "      <td>-0.002115</td>\n",
       "      <td>-0.010338</td>\n",
       "      <td>-0.099316</td>\n",
       "      <td>-0.021914</td>\n",
       "      <td>1.000000</td>\n",
       "      <td>0.101049</td>\n",
       "      <td>0.049321</td>\n",
       "      <td>-0.057225</td>\n",
       "    </tr>\n",
       "    <tr>\n",
       "      <th>Maintenance (Monthly)nan</th>\n",
       "      <td>-0.017278</td>\n",
       "      <td>-0.019968</td>\n",
       "      <td>-0.171265</td>\n",
       "      <td>0.008740</td>\n",
       "      <td>0.101049</td>\n",
       "      <td>1.000000</td>\n",
       "      <td>0.004779</td>\n",
       "      <td>0.116832</td>\n",
       "    </tr>\n",
       "    <tr>\n",
       "      <th>Carpet Area (ft²)</th>\n",
       "      <td>0.453222</td>\n",
       "      <td>0.385555</td>\n",
       "      <td>0.087336</td>\n",
       "      <td>0.207871</td>\n",
       "      <td>0.049321</td>\n",
       "      <td>0.004779</td>\n",
       "      <td>1.000000</td>\n",
       "      <td>-0.005303</td>\n",
       "    </tr>\n",
       "    <tr>\n",
       "      <th>Maintenance (Monthly)</th>\n",
       "      <td>0.102251</td>\n",
       "      <td>0.107122</td>\n",
       "      <td>0.007397</td>\n",
       "      <td>0.106785</td>\n",
       "      <td>-0.057225</td>\n",
       "      <td>0.116832</td>\n",
       "      <td>-0.005303</td>\n",
       "      <td>1.000000</td>\n",
       "    </tr>\n",
       "  </tbody>\n",
       "</table>\n",
       "</div>"
      ],
      "text/plain": [
       "                           bedroom  bathroom  Total floor      Rent  \\\n",
       "bedroom                   1.000000  0.782119     0.108079  0.244566   \n",
       "bathroom                  0.782119  1.000000     0.165635  0.225180   \n",
       "Total floor               0.108079  0.165635     1.000000  0.095984   \n",
       "Rent                      0.244566  0.225180     0.095984  1.000000   \n",
       "Carpet Area (ft²)nan     -0.002115 -0.010338    -0.099316 -0.021914   \n",
       "Maintenance (Monthly)nan -0.017278 -0.019968    -0.171265  0.008740   \n",
       "Carpet Area (ft²)         0.453222  0.385555     0.087336  0.207871   \n",
       "Maintenance (Monthly)     0.102251  0.107122     0.007397  0.106785   \n",
       "\n",
       "                          Carpet Area (ft²)nan  Maintenance (Monthly)nan  \\\n",
       "bedroom                              -0.002115                 -0.017278   \n",
       "bathroom                             -0.010338                 -0.019968   \n",
       "Total floor                          -0.099316                 -0.171265   \n",
       "Rent                                 -0.021914                  0.008740   \n",
       "Carpet Area (ft²)nan                  1.000000                  0.101049   \n",
       "Maintenance (Monthly)nan              0.101049                  1.000000   \n",
       "Carpet Area (ft²)                     0.049321                  0.004779   \n",
       "Maintenance (Monthly)                -0.057225                  0.116832   \n",
       "\n",
       "                          Carpet Area (ft²)  Maintenance (Monthly)  \n",
       "bedroom                            0.453222               0.102251  \n",
       "bathroom                           0.385555               0.107122  \n",
       "Total floor                        0.087336               0.007397  \n",
       "Rent                               0.207871               0.106785  \n",
       "Carpet Area (ft²)nan               0.049321              -0.057225  \n",
       "Maintenance (Monthly)nan           0.004779               0.116832  \n",
       "Carpet Area (ft²)                  1.000000              -0.005303  \n",
       "Maintenance (Monthly)             -0.005303               1.000000  "
      ]
     },
     "execution_count": 5,
     "metadata": {},
     "output_type": "execute_result"
    }
   ],
   "source": [
    "data.corr()"
   ]
  },
  {
   "cell_type": "code",
   "execution_count": 6,
   "metadata": {},
   "outputs": [],
   "source": [
    "#categorical data\n",
    "categorical_cols = ['Type', 'furnishing', 'facing', 'state'] \n",
    "\n",
    "#import pandas as pd\n",
    "df_enc = pd.get_dummies(data, columns = categorical_cols)"
   ]
  },
  {
   "cell_type": "code",
   "execution_count": 7,
   "metadata": {},
   "outputs": [],
   "source": [
    "\n",
    "X = df_enc.drop('Rent', axis =1)\n",
    "y = df_enc.Rent.values"
   ]
  },
  {
   "cell_type": "code",
   "execution_count": 8,
   "metadata": {},
   "outputs": [],
   "source": [
    "from sklearn.linear_model import Lasso\n",
    "from sklearn.feature_selection import SelectFromModel"
   ]
  },
  {
   "cell_type": "code",
   "execution_count": 9,
   "metadata": {},
   "outputs": [
    {
     "data": {
      "text/plain": [
       "SelectFromModel(estimator=Lasso(alpha=0.005, random_state=0))"
      ]
     },
     "execution_count": 9,
     "metadata": {},
     "output_type": "execute_result"
    }
   ],
   "source": [
    "\n",
    "feature_sel_model = SelectFromModel(Lasso(alpha=0.005, random_state=0)) # remember to set the seed, the random state in this function\n",
    "feature_sel_model.fit(X, y)"
   ]
  },
  {
   "cell_type": "code",
   "execution_count": 13,
   "metadata": {},
   "outputs": [
    {
     "name": "stdout",
     "output_type": "stream",
     "text": [
      "total features: 28\n",
      "selected features: 17\n"
     ]
    }
   ],
   "source": [
    "# this is how we can make a list of the selected features\n",
    "selected_feat = X.columns[(feature_sel_model.get_support())]\n",
    "\n",
    "# let's print some stats\n",
    "print('total features: {}'.format((X.shape[1])))\n",
    "print('selected features: {}'.format(len(selected_feat)))\n"
   ]
  },
  {
   "cell_type": "code",
   "execution_count": 14,
   "metadata": {},
   "outputs": [],
   "source": [
    "X_new=X[selected_feat]"
   ]
  },
  {
   "cell_type": "code",
   "execution_count": 15,
   "metadata": {},
   "outputs": [
    {
     "data": {
      "text/html": [
       "<div>\n",
       "<style scoped>\n",
       "    .dataframe tbody tr th:only-of-type {\n",
       "        vertical-align: middle;\n",
       "    }\n",
       "\n",
       "    .dataframe tbody tr th {\n",
       "        vertical-align: top;\n",
       "    }\n",
       "\n",
       "    .dataframe thead th {\n",
       "        text-align: right;\n",
       "    }\n",
       "</style>\n",
       "<table border=\"1\" class=\"dataframe\">\n",
       "  <thead>\n",
       "    <tr style=\"text-align: right;\">\n",
       "      <th></th>\n",
       "      <th>bedroom</th>\n",
       "      <th>Total floor</th>\n",
       "      <th>Maintenance (Monthly)nan</th>\n",
       "      <th>Carpet Area (ft²)</th>\n",
       "      <th>Maintenance (Monthly)</th>\n",
       "      <th>Type_Apartments</th>\n",
       "      <th>furnishing_Furnished</th>\n",
       "      <th>furnishing_Semi-Furnished</th>\n",
       "      <th>facing_North-East</th>\n",
       "      <th>facing_North-West</th>\n",
       "      <th>facing_South</th>\n",
       "      <th>facing_West</th>\n",
       "      <th>facing_others</th>\n",
       "      <th>state_ Karnataka</th>\n",
       "      <th>state_ Kerala</th>\n",
       "      <th>state_ Tamil Nadu</th>\n",
       "      <th>state_ Uttar Pradesh</th>\n",
       "    </tr>\n",
       "  </thead>\n",
       "  <tbody>\n",
       "    <tr>\n",
       "      <th>0</th>\n",
       "      <td>2</td>\n",
       "      <td>6</td>\n",
       "      <td>0</td>\n",
       "      <td>0.636732</td>\n",
       "      <td>0.360623</td>\n",
       "      <td>1</td>\n",
       "      <td>0</td>\n",
       "      <td>1</td>\n",
       "      <td>1</td>\n",
       "      <td>0</td>\n",
       "      <td>0</td>\n",
       "      <td>0</td>\n",
       "      <td>0</td>\n",
       "      <td>0</td>\n",
       "      <td>0</td>\n",
       "      <td>0</td>\n",
       "      <td>0</td>\n",
       "    </tr>\n",
       "    <tr>\n",
       "      <th>1</th>\n",
       "      <td>1</td>\n",
       "      <td>4</td>\n",
       "      <td>0</td>\n",
       "      <td>0.550747</td>\n",
       "      <td>0.300338</td>\n",
       "      <td>1</td>\n",
       "      <td>1</td>\n",
       "      <td>0</td>\n",
       "      <td>0</td>\n",
       "      <td>0</td>\n",
       "      <td>0</td>\n",
       "      <td>0</td>\n",
       "      <td>0</td>\n",
       "      <td>0</td>\n",
       "      <td>0</td>\n",
       "      <td>0</td>\n",
       "      <td>0</td>\n",
       "    </tr>\n",
       "    <tr>\n",
       "      <th>2</th>\n",
       "      <td>1</td>\n",
       "      <td>3</td>\n",
       "      <td>0</td>\n",
       "      <td>0.599832</td>\n",
       "      <td>0.374466</td>\n",
       "      <td>1</td>\n",
       "      <td>1</td>\n",
       "      <td>0</td>\n",
       "      <td>1</td>\n",
       "      <td>0</td>\n",
       "      <td>0</td>\n",
       "      <td>0</td>\n",
       "      <td>0</td>\n",
       "      <td>0</td>\n",
       "      <td>0</td>\n",
       "      <td>0</td>\n",
       "      <td>0</td>\n",
       "    </tr>\n",
       "    <tr>\n",
       "      <th>3</th>\n",
       "      <td>2</td>\n",
       "      <td>4</td>\n",
       "      <td>0</td>\n",
       "      <td>0.657170</td>\n",
       "      <td>0.300382</td>\n",
       "      <td>1</td>\n",
       "      <td>0</td>\n",
       "      <td>1</td>\n",
       "      <td>0</td>\n",
       "      <td>0</td>\n",
       "      <td>0</td>\n",
       "      <td>0</td>\n",
       "      <td>0</td>\n",
       "      <td>0</td>\n",
       "      <td>0</td>\n",
       "      <td>0</td>\n",
       "      <td>0</td>\n",
       "    </tr>\n",
       "    <tr>\n",
       "      <th>4</th>\n",
       "      <td>3</td>\n",
       "      <td>5</td>\n",
       "      <td>0</td>\n",
       "      <td>0.781346</td>\n",
       "      <td>0.330497</td>\n",
       "      <td>1</td>\n",
       "      <td>1</td>\n",
       "      <td>0</td>\n",
       "      <td>0</td>\n",
       "      <td>0</td>\n",
       "      <td>0</td>\n",
       "      <td>0</td>\n",
       "      <td>0</td>\n",
       "      <td>0</td>\n",
       "      <td>0</td>\n",
       "      <td>0</td>\n",
       "      <td>0</td>\n",
       "    </tr>\n",
       "  </tbody>\n",
       "</table>\n",
       "</div>"
      ],
      "text/plain": [
       "   bedroom  Total floor  Maintenance (Monthly)nan  Carpet Area (ft²)  \\\n",
       "0        2            6                         0           0.636732   \n",
       "1        1            4                         0           0.550747   \n",
       "2        1            3                         0           0.599832   \n",
       "3        2            4                         0           0.657170   \n",
       "4        3            5                         0           0.781346   \n",
       "\n",
       "   Maintenance (Monthly)  Type_Apartments  furnishing_Furnished  \\\n",
       "0               0.360623                1                     0   \n",
       "1               0.300338                1                     1   \n",
       "2               0.374466                1                     1   \n",
       "3               0.300382                1                     0   \n",
       "4               0.330497                1                     1   \n",
       "\n",
       "   furnishing_Semi-Furnished  facing_North-East  facing_North-West  \\\n",
       "0                          1                  1                  0   \n",
       "1                          0                  0                  0   \n",
       "2                          0                  1                  0   \n",
       "3                          1                  0                  0   \n",
       "4                          0                  0                  0   \n",
       "\n",
       "   facing_South  facing_West  facing_others  state_ Karnataka  state_ Kerala  \\\n",
       "0             0            0              0                 0              0   \n",
       "1             0            0              0                 0              0   \n",
       "2             0            0              0                 0              0   \n",
       "3             0            0              0                 0              0   \n",
       "4             0            0              0                 0              0   \n",
       "\n",
       "   state_ Tamil Nadu  state_ Uttar Pradesh  \n",
       "0                  0                     0  \n",
       "1                  0                     0  \n",
       "2                  0                     0  \n",
       "3                  0                     0  \n",
       "4                  0                     0  "
      ]
     },
     "execution_count": 15,
     "metadata": {},
     "output_type": "execute_result"
    }
   ],
   "source": [
    "X_new.head()"
   ]
  },
  {
   "cell_type": "code",
   "execution_count": 16,
   "metadata": {},
   "outputs": [],
   "source": [
    "from sklearn.model_selection import train_test_split\n",
    "\n",
    "\n",
    "X_train, X_test, y_train, y_test = train_test_split(X_new, y, test_size=0.2, random_state=42)"
   ]
  },
  {
   "cell_type": "code",
   "execution_count": 17,
   "metadata": {},
   "outputs": [
    {
     "data": {
      "text/html": [
       "<div>\n",
       "<style scoped>\n",
       "    .dataframe tbody tr th:only-of-type {\n",
       "        vertical-align: middle;\n",
       "    }\n",
       "\n",
       "    .dataframe tbody tr th {\n",
       "        vertical-align: top;\n",
       "    }\n",
       "\n",
       "    .dataframe thead th {\n",
       "        text-align: right;\n",
       "    }\n",
       "</style>\n",
       "<table border=\"1\" class=\"dataframe\">\n",
       "  <thead>\n",
       "    <tr style=\"text-align: right;\">\n",
       "      <th></th>\n",
       "      <th>alpha</th>\n",
       "      <th>error</th>\n",
       "    </tr>\n",
       "  </thead>\n",
       "  <tbody>\n",
       "    <tr>\n",
       "      <th>1</th>\n",
       "      <td>0.02</td>\n",
       "      <td>-0.66515</td>\n",
       "    </tr>\n",
       "  </tbody>\n",
       "</table>\n",
       "</div>"
      ],
      "text/plain": [
       "   alpha    error\n",
       "1   0.02 -0.66515"
      ]
     },
     "execution_count": 17,
     "metadata": {},
     "output_type": "execute_result"
    },
    {
     "data": {
      "image/png": "[encoded data removed]",
      "text/plain": [
       "<Figure size 432x288 with 1 Axes>"
      ]
     },
     "metadata": {
      "needs_background": "light"
     },
     "output_type": "display_data"
    }
   ],
   "source": [
    "from sklearn.linear_model import LinearRegression, Lasso\n",
    "from sklearn.model_selection import cross_val_score\n",
    "\n",
    "lm = LinearRegression()\n",
    "lm.fit(X_train, y_train)\n",
    "\n",
    "np.mean(cross_val_score(lm,X_train,y_train, scoring = 'neg_mean_absolute_error', cv= 3))\n",
    "\n",
    "# lasso regression \n",
    "lm_l = Lasso(alpha=.13)\n",
    "lm_l.fit(X_train,y_train)\n",
    "np.mean(cross_val_score(lm_l,X_train,y_train, scoring = 'neg_mean_absolute_error', cv= 3))\n",
    "\n",
    "alpha = []\n",
    "error = []\n",
    "\n",
    "for i in range(1,100):\n",
    "    alpha.append(i/100)\n",
    "    lml = Lasso(alpha=(i/100))\n",
    "    error.append(np.mean(cross_val_score(lml,X_train,y_train, scoring = 'neg_mean_absolute_error', cv= 3)))\n",
    "    \n",
    "plt.plot(alpha,error)\n",
    "\n",
    "err = tuple(zip(alpha,error))\n",
    "df_err = pd.DataFrame(err, columns = ['alpha','error'])\n",
    "df_err[df_err.error == max(df_err.error)]"
   ]
  },
  {
   "cell_type": "code",
   "execution_count": 18,
   "metadata": {},
   "outputs": [],
   "source": [
    "tpred_lm = lm.predict(X_test)\n",
    "tpred_lml = lm_l.predict(X_test)"
   ]
  },
  {
   "cell_type": "code",
   "execution_count": 19,
   "metadata": {},
   "outputs": [],
   "source": [
    "from sklearn.metrics import mean_absolute_error"
   ]
  },
  {
   "cell_type": "code",
   "execution_count": 20,
   "metadata": {},
   "outputs": [
    {
     "data": {
      "text/plain": [
       "0.6528391276524385"
      ]
     },
     "execution_count": 20,
     "metadata": {},
     "output_type": "execute_result"
    }
   ],
   "source": [
    "mean_absolute_error(y_test,tpred_lm)"
   ]
  },
  {
   "cell_type": "code",
   "execution_count": 21,
   "metadata": {},
   "outputs": [
    {
     "data": {
      "text/plain": [
       "0.629712415995146"
      ]
     },
     "execution_count": 21,
     "metadata": {},
     "output_type": "execute_result"
    }
   ],
   "source": [
    "mean_absolute_error(y_test,tpred_lml)"
   ]
  },
  {
   "cell_type": "code",
   "execution_count": 22,
   "metadata": {},
   "outputs": [],
   "source": [
    "from sklearn.ensemble import RandomForestRegressor\n",
    "rf = RandomForestRegressor()"
   ]
  },
  {
   "cell_type": "code",
   "execution_count": 23,
   "metadata": {},
   "outputs": [
    {
     "data": {
      "text/plain": [
       "-0.7230427124047498"
      ]
     },
     "execution_count": 23,
     "metadata": {},
     "output_type": "execute_result"
    }
   ],
   "source": [
    "np.mean(cross_val_score(rf,X_train,y_train,scoring = 'neg_mean_absolute_error', cv= 3))"
   ]
  },
  {
   "cell_type": "code",
   "execution_count": null,
   "metadata": {},
   "outputs": [],
   "source": []
  }
 ],
 "metadata": {
  "kernelspec": {
   "display_name": "Python 3",
   "language": "python",
   "name": "python3"
  },
  "language_info": {
   "codemirror_mode": {
    "name": "ipython",
    "version": 3
   },
   "file_extension": ".py",
   "mimetype": "text/x-python",
   "name": "python",
   "nbconvert_exporter": "python",
   "pygments_lexer": "ipython3",
   "version": "3.7.9"
  }
 },
 "nbformat": 4,
 "nbformat_minor": 4
}
