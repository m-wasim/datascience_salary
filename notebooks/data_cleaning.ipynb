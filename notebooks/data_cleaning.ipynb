{
 "cells": [
  {
   "cell_type": "code",
   "execution_count": 1,
   "metadata": {},
   "outputs": [],
   "source": [
    "import pandas as pd\n",
    "import numpy as np"
   ]
  },
  {
   "cell_type": "code",
   "execution_count": 2,
   "metadata": {},
   "outputs": [],
   "source": [
    "data=pd.read_csv(r'C:\\Users\\Wasim\\Desktop\\Data_science_Projects\\olx_rentdata\\input_data\\olx_rent_data.csv')"
   ]
  },
  {
   "cell_type": "code",
   "execution_count": 3,
   "metadata": {},
   "outputs": [
    {
     "data": {
      "text/html": [
       "<div>\n",
       "<style scoped>\n",
       "    .dataframe tbody tr th:only-of-type {\n",
       "        vertical-align: middle;\n",
       "    }\n",
       "\n",
       "    .dataframe tbody tr th {\n",
       "        vertical-align: top;\n",
       "    }\n",
       "\n",
       "    .dataframe thead th {\n",
       "        text-align: right;\n",
       "    }\n",
       "</style>\n",
       "<table border=\"1\" class=\"dataframe\">\n",
       "  <thead>\n",
       "    <tr style=\"text-align: right;\">\n",
       "      <th></th>\n",
       "      <th>Type</th>\n",
       "      <th>bedroom</th>\n",
       "      <th>bathroom</th>\n",
       "      <th>furnishing</th>\n",
       "      <th>Carpet Area (ft²)</th>\n",
       "      <th>Maintenance (Monthly)</th>\n",
       "      <th>facing</th>\n",
       "      <th>Total floor</th>\n",
       "      <th>Rent</th>\n",
       "    </tr>\n",
       "  </thead>\n",
       "  <tbody>\n",
       "    <tr>\n",
       "      <th>0</th>\n",
       "      <td>Houses &amp; Villas</td>\n",
       "      <td>1</td>\n",
       "      <td>1</td>\n",
       "      <td>Unfurnished</td>\n",
       "      <td>350</td>\n",
       "      <td>200</td>\n",
       "      <td>North</td>\n",
       "      <td>2</td>\n",
       "      <td>₹ 7,500</td>\n",
       "    </tr>\n",
       "    <tr>\n",
       "      <th>1</th>\n",
       "      <td>Apartments</td>\n",
       "      <td>2</td>\n",
       "      <td>2</td>\n",
       "      <td>Unfurnished</td>\n",
       "      <td>810</td>\n",
       "      <td>5</td>\n",
       "      <td>Residential apartment</td>\n",
       "      <td>2</td>\n",
       "      <td>₹ 18,500</td>\n",
       "    </tr>\n",
       "    <tr>\n",
       "      <th>2</th>\n",
       "      <td>Apartments</td>\n",
       "      <td>3</td>\n",
       "      <td>2</td>\n",
       "      <td>Semi-Furnished</td>\n",
       "      <td>950</td>\n",
       "      <td>3500</td>\n",
       "      <td>East</td>\n",
       "      <td>4</td>\n",
       "      <td>₹ 1,55,00,000</td>\n",
       "    </tr>\n",
       "    <tr>\n",
       "      <th>3</th>\n",
       "      <td>-1</td>\n",
       "      <td>-1</td>\n",
       "      <td>-1</td>\n",
       "      <td>-1</td>\n",
       "      <td>-1</td>\n",
       "      <td>-1</td>\n",
       "      <td>-1</td>\n",
       "      <td>-1</td>\n",
       "      <td>-1</td>\n",
       "    </tr>\n",
       "    <tr>\n",
       "      <th>4</th>\n",
       "      <td>Apartments</td>\n",
       "      <td>2</td>\n",
       "      <td>1</td>\n",
       "      <td>Furnished</td>\n",
       "      <td>1</td>\n",
       "      <td>0</td>\n",
       "      <td>East</td>\n",
       "      <td>5</td>\n",
       "      <td>₹ 10,000</td>\n",
       "    </tr>\n",
       "    <tr>\n",
       "      <th>5</th>\n",
       "      <td>-1</td>\n",
       "      <td>-1</td>\n",
       "      <td>-1</td>\n",
       "      <td>-1</td>\n",
       "      <td>-1</td>\n",
       "      <td>-1</td>\n",
       "      <td>-1</td>\n",
       "      <td>-1</td>\n",
       "      <td>-1</td>\n",
       "    </tr>\n",
       "  </tbody>\n",
       "</table>\n",
       "</div>"
      ],
      "text/plain": [
       "              Type bedroom bathroom      furnishing Carpet Area (ft²)  \\\n",
       "0  Houses & Villas       1        1     Unfurnished               350   \n",
       "1       Apartments       2        2     Unfurnished               810   \n",
       "2       Apartments       3        2  Semi-Furnished               950   \n",
       "3               -1      -1       -1              -1                -1   \n",
       "4       Apartments       2        1       Furnished                 1   \n",
       "5               -1      -1       -1              -1                -1   \n",
       "\n",
       "   Maintenance (Monthly)                 facing Total floor           Rent  \n",
       "0                    200                  North           2        ₹ 7,500  \n",
       "1                      5  Residential apartment           2       ₹ 18,500  \n",
       "2                   3500                   East           4  ₹ 1,55,00,000  \n",
       "3                     -1                     -1          -1             -1  \n",
       "4                      0                   East           5       ₹ 10,000  \n",
       "5                     -1                     -1          -1             -1  "
      ]
     },
     "execution_count": 3,
     "metadata": {},
     "output_type": "execute_result"
    }
   ],
   "source": [
    "data.head(6)"
   ]
  },
  {
   "cell_type": "code",
   "execution_count": 4,
   "metadata": {},
   "outputs": [
    {
     "data": {
      "text/plain": [
       "(1120, 9)"
      ]
     },
     "execution_count": 4,
     "metadata": {},
     "output_type": "execute_result"
    }
   ],
   "source": [
    "data.shape"
   ]
  },
  {
   "cell_type": "code",
   "execution_count": 5,
   "metadata": {},
   "outputs": [
    {
     "name": "stdout",
     "output_type": "stream",
     "text": [
      "<class 'pandas.core.frame.DataFrame'>\n",
      "RangeIndex: 1120 entries, 0 to 1119\n",
      "Data columns (total 9 columns):\n",
      " #   Column                 Non-Null Count  Dtype \n",
      "---  ------                 --------------  ----- \n",
      " 0   Type                   1120 non-null   object\n",
      " 1   bedroom                1120 non-null   object\n",
      " 2   bathroom               1120 non-null   object\n",
      " 3   furnishing             1120 non-null   object\n",
      " 4   Carpet Area (ft²)      1120 non-null   object\n",
      " 5   Maintenance (Monthly)  1120 non-null   int64 \n",
      " 6   facing                 1120 non-null   object\n",
      " 7   Total floor            1120 non-null   object\n",
      " 8   Rent                   1120 non-null   object\n",
      "dtypes: int64(1), object(8)\n",
      "memory usage: 78.9+ KB\n"
     ]
    }
   ],
   "source": [
    "data.info()"
   ]
  },
  {
   "cell_type": "code",
   "execution_count": 6,
   "metadata": {},
   "outputs": [
    {
     "data": {
      "text/plain": [
       "Index(['Type', 'bedroom', 'bathroom', 'furnishing', 'Carpet Area (ft²)',\n",
       "       'Maintenance (Monthly)', 'facing', 'Total floor', 'Rent'],\n",
       "      dtype='object')"
      ]
     },
     "execution_count": 6,
     "metadata": {},
     "output_type": "execute_result"
    }
   ],
   "source": [
    "data.columns"
   ]
  },
  {
   "cell_type": "code",
   "execution_count": 7,
   "metadata": {},
   "outputs": [
    {
     "data": {
      "text/plain": [
       "-1       300\n",
       " 0       272\n",
       " 500      61\n",
       " 2000     47\n",
       " 1000     36\n",
       "        ... \n",
       " 650       1\n",
       " 1890      1\n",
       " 2600      1\n",
       " 450       1\n",
       " 2700      1\n",
       "Name: Maintenance (Monthly), Length: 94, dtype: int64"
      ]
     },
     "execution_count": 7,
     "metadata": {},
     "output_type": "execute_result"
    }
   ],
   "source": [
    "data['Maintenance (Monthly)'].value_counts()"
   ]
  },
  {
   "cell_type": "code",
   "execution_count": 8,
   "metadata": {},
   "outputs": [
    {
     "data": {
      "text/plain": [
       "2     362\n",
       "-1    300\n",
       "1     260\n",
       "3     178\n",
       "4+     10\n",
       "4      10\n",
       "Name: bedroom, dtype: int64"
      ]
     },
     "execution_count": 8,
     "metadata": {},
     "output_type": "execute_result"
    }
   ],
   "source": [
    "data.bedroom.value_counts()"
   ]
  },
  {
   "cell_type": "code",
   "execution_count": 9,
   "metadata": {},
   "outputs": [],
   "source": [
    "df=data[data['Maintenance (Monthly)']!=-1]"
   ]
  },
  {
   "cell_type": "code",
   "execution_count": 10,
   "metadata": {},
   "outputs": [
    {
     "data": {
      "text/plain": [
       "0       272\n",
       "500      61\n",
       "2000     47\n",
       "1000     36\n",
       "5000     28\n",
       "       ... \n",
       "220       1\n",
       "1225      1\n",
       "1800      1\n",
       "197       1\n",
       "1010      1\n",
       "Name: Maintenance (Monthly), Length: 93, dtype: int64"
      ]
     },
     "execution_count": 10,
     "metadata": {},
     "output_type": "execute_result"
    }
   ],
   "source": [
    "df['Maintenance (Monthly)'].value_counts()"
   ]
  },
  {
   "cell_type": "code",
   "execution_count": 11,
   "metadata": {},
   "outputs": [
    {
     "data": {
      "text/plain": [
       "(820, 9)"
      ]
     },
     "execution_count": 11,
     "metadata": {},
     "output_type": "execute_result"
    }
   ],
   "source": [
    "df.shape"
   ]
  },
  {
   "cell_type": "code",
   "execution_count": 12,
   "metadata": {},
   "outputs": [],
   "source": [
    "df=df.drop_duplicates(ignore_index=True)"
   ]
  },
  {
   "cell_type": "code",
   "execution_count": 13,
   "metadata": {},
   "outputs": [
    {
     "data": {
      "text/plain": [
       "(797, 9)"
      ]
     },
     "execution_count": 13,
     "metadata": {},
     "output_type": "execute_result"
    }
   ],
   "source": [
    "df.shape"
   ]
  },
  {
   "cell_type": "code",
   "execution_count": 14,
   "metadata": {},
   "outputs": [
    {
     "data": {
      "text/html": [
       "<div>\n",
       "<style scoped>\n",
       "    .dataframe tbody tr th:only-of-type {\n",
       "        vertical-align: middle;\n",
       "    }\n",
       "\n",
       "    .dataframe tbody tr th {\n",
       "        vertical-align: top;\n",
       "    }\n",
       "\n",
       "    .dataframe thead th {\n",
       "        text-align: right;\n",
       "    }\n",
       "</style>\n",
       "<table border=\"1\" class=\"dataframe\">\n",
       "  <thead>\n",
       "    <tr style=\"text-align: right;\">\n",
       "      <th></th>\n",
       "      <th>Type</th>\n",
       "      <th>bedroom</th>\n",
       "      <th>bathroom</th>\n",
       "      <th>furnishing</th>\n",
       "      <th>Carpet Area (ft²)</th>\n",
       "      <th>Maintenance (Monthly)</th>\n",
       "      <th>facing</th>\n",
       "      <th>Total floor</th>\n",
       "      <th>Rent</th>\n",
       "    </tr>\n",
       "  </thead>\n",
       "  <tbody>\n",
       "    <tr>\n",
       "      <th>0</th>\n",
       "      <td>Houses &amp; Villas</td>\n",
       "      <td>1</td>\n",
       "      <td>1</td>\n",
       "      <td>Unfurnished</td>\n",
       "      <td>350</td>\n",
       "      <td>200</td>\n",
       "      <td>North</td>\n",
       "      <td>2</td>\n",
       "      <td>₹ 7,500</td>\n",
       "    </tr>\n",
       "    <tr>\n",
       "      <th>1</th>\n",
       "      <td>Apartments</td>\n",
       "      <td>2</td>\n",
       "      <td>2</td>\n",
       "      <td>Unfurnished</td>\n",
       "      <td>810</td>\n",
       "      <td>5</td>\n",
       "      <td>Residential apartment</td>\n",
       "      <td>2</td>\n",
       "      <td>₹ 18,500</td>\n",
       "    </tr>\n",
       "    <tr>\n",
       "      <th>2</th>\n",
       "      <td>Apartments</td>\n",
       "      <td>3</td>\n",
       "      <td>2</td>\n",
       "      <td>Semi-Furnished</td>\n",
       "      <td>950</td>\n",
       "      <td>3500</td>\n",
       "      <td>East</td>\n",
       "      <td>4</td>\n",
       "      <td>₹ 1,55,00,000</td>\n",
       "    </tr>\n",
       "    <tr>\n",
       "      <th>3</th>\n",
       "      <td>Apartments</td>\n",
       "      <td>2</td>\n",
       "      <td>1</td>\n",
       "      <td>Furnished</td>\n",
       "      <td>1</td>\n",
       "      <td>0</td>\n",
       "      <td>East</td>\n",
       "      <td>5</td>\n",
       "      <td>₹ 10,000</td>\n",
       "    </tr>\n",
       "    <tr>\n",
       "      <th>4</th>\n",
       "      <td>Apartments</td>\n",
       "      <td>2</td>\n",
       "      <td>2</td>\n",
       "      <td>Unfurnished</td>\n",
       "      <td>833</td>\n",
       "      <td>12</td>\n",
       "      <td>Balaji Whitefield</td>\n",
       "      <td>12</td>\n",
       "      <td>₹ 14,500</td>\n",
       "    </tr>\n",
       "  </tbody>\n",
       "</table>\n",
       "</div>"
      ],
      "text/plain": [
       "              Type bedroom bathroom      furnishing Carpet Area (ft²)  \\\n",
       "0  Houses & Villas       1        1     Unfurnished               350   \n",
       "1       Apartments       2        2     Unfurnished               810   \n",
       "2       Apartments       3        2  Semi-Furnished               950   \n",
       "3       Apartments       2        1       Furnished                 1   \n",
       "4       Apartments       2        2     Unfurnished               833   \n",
       "\n",
       "   Maintenance (Monthly)                 facing Total floor           Rent  \n",
       "0                    200                  North           2        ₹ 7,500  \n",
       "1                      5  Residential apartment           2       ₹ 18,500  \n",
       "2                   3500                   East           4  ₹ 1,55,00,000  \n",
       "3                      0                   East           5       ₹ 10,000  \n",
       "4                     12      Balaji Whitefield          12       ₹ 14,500  "
      ]
     },
     "execution_count": 14,
     "metadata": {},
     "output_type": "execute_result"
    }
   ],
   "source": [
    "df.head()"
   ]
  },
  {
   "cell_type": "code",
   "execution_count": null,
   "metadata": {},
   "outputs": [],
   "source": [
    "df['Rent']=df['Rent'].apply(lambda int(x):x.replace(['']))"
   ]
  },
  {
   "cell_type": "code",
   "execution_count": null,
   "metadata": {},
   "outputs": [],
   "source": []
  },
  {
   "cell_type": "code",
   "execution_count": null,
   "metadata": {},
   "outputs": [],
   "source": []
  },
  {
   "cell_type": "code",
   "execution_count": null,
   "metadata": {},
   "outputs": [],
   "source": []
  },
  {
   "cell_type": "code",
   "execution_count": null,
   "metadata": {},
   "outputs": [],
   "source": [
    "df.bedroom.value_counts()"
   ]
  },
  {
   "cell_type": "code",
   "execution_count": null,
   "metadata": {},
   "outputs": [],
   "source": []
  },
  {
   "cell_type": "code",
   "execution_count": null,
   "metadata": {},
   "outputs": [],
   "source": []
  }
 ],
 "metadata": {
  "kernelspec": {
   "display_name": "Python 3",
   "language": "python",
   "name": "python3"
  },
  "language_info": {
   "codemirror_mode": {
    "name": "ipython",
    "version": 3
   },
   "file_extension": ".py",
   "mimetype": "text/x-python",
   "name": "python",
   "nbconvert_exporter": "python",
   "pygments_lexer": "ipython3",
   "version": "3.7.9"
  }
 },
 "nbformat": 4,
 "nbformat_minor": 4
}
