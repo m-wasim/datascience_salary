{
 "cells": [
  {
   "cell_type": "code",
   "execution_count": 1,
   "metadata": {},
   "outputs": [],
   "source": [
    "import pandas as pd\n",
    "import numpy as np"
   ]
  },
  {
   "cell_type": "code",
   "execution_count": 2,
   "metadata": {},
   "outputs": [],
   "source": [
    "data=pd.read_csv(r'C:\\Users\\Wasim\\Desktop\\Data_science_Projects\\olx_rent_pred\\raw_data\\olx_rent_data_new.csv')"
   ]
  },
  {
   "cell_type": "code",
   "execution_count": 3,
   "metadata": {},
   "outputs": [
    {
     "data": {
      "text/html": [
       "<div>\n",
       "<style scoped>\n",
       "    .dataframe tbody tr th:only-of-type {\n",
       "        vertical-align: middle;\n",
       "    }\n",
       "\n",
       "    .dataframe tbody tr th {\n",
       "        vertical-align: top;\n",
       "    }\n",
       "\n",
       "    .dataframe thead th {\n",
       "        text-align: right;\n",
       "    }\n",
       "</style>\n",
       "<table border=\"1\" class=\"dataframe\">\n",
       "  <thead>\n",
       "    <tr style=\"text-align: right;\">\n",
       "      <th></th>\n",
       "      <th>Type</th>\n",
       "      <th>bedroom</th>\n",
       "      <th>bathroom</th>\n",
       "      <th>furnishing</th>\n",
       "      <th>Carpet Area (ft²)</th>\n",
       "      <th>Maintenance (Monthly)</th>\n",
       "      <th>facing</th>\n",
       "      <th>Total floor</th>\n",
       "      <th>state</th>\n",
       "      <th>Rent</th>\n",
       "    </tr>\n",
       "  </thead>\n",
       "  <tbody>\n",
       "    <tr>\n",
       "      <th>0</th>\n",
       "      <td>Apartments</td>\n",
       "      <td>2</td>\n",
       "      <td>2</td>\n",
       "      <td>Semi-Furnished</td>\n",
       "      <td>700</td>\n",
       "      <td>4000</td>\n",
       "      <td>North-East</td>\n",
       "      <td>6</td>\n",
       "      <td>Andheri East, Mumbai, Maharashtra</td>\n",
       "      <td>₹ 42,000</td>\n",
       "    </tr>\n",
       "    <tr>\n",
       "      <th>1</th>\n",
       "      <td>Apartments</td>\n",
       "      <td>1</td>\n",
       "      <td>2</td>\n",
       "      <td>Furnished</td>\n",
       "      <td>399</td>\n",
       "      <td>999</td>\n",
       "      <td>East</td>\n",
       "      <td>4</td>\n",
       "      <td>Andheri East, Mumbai, Maharashtra</td>\n",
       "      <td>₹ 20,000</td>\n",
       "    </tr>\n",
       "    <tr>\n",
       "      <th>2</th>\n",
       "      <td>-1</td>\n",
       "      <td>-1</td>\n",
       "      <td>-1</td>\n",
       "      <td>-1</td>\n",
       "      <td>-1</td>\n",
       "      <td>-1</td>\n",
       "      <td>-1</td>\n",
       "      <td>-1</td>\n",
       "      <td>-1</td>\n",
       "      <td>-1</td>\n",
       "    </tr>\n",
       "    <tr>\n",
       "      <th>3</th>\n",
       "      <td>Apartments</td>\n",
       "      <td>1</td>\n",
       "      <td>1</td>\n",
       "      <td>Furnished</td>\n",
       "      <td>550</td>\n",
       "      <td>5500</td>\n",
       "      <td>North-East</td>\n",
       "      <td>3</td>\n",
       "      <td>Chikhali, Pune, Maharashtra</td>\n",
       "      <td>₹ 5,500</td>\n",
       "    </tr>\n",
       "    <tr>\n",
       "      <th>4</th>\n",
       "      <td>Apartments</td>\n",
       "      <td>2</td>\n",
       "      <td>2</td>\n",
       "      <td>Semi-Furnished</td>\n",
       "      <td>800</td>\n",
       "      <td>1000</td>\n",
       "      <td>East</td>\n",
       "      <td>4</td>\n",
       "      <td>Model Colony, Nashik, Maharashtra</td>\n",
       "      <td>₹ 15,000</td>\n",
       "    </tr>\n",
       "  </tbody>\n",
       "</table>\n",
       "</div>"
      ],
      "text/plain": [
       "         Type bedroom bathroom      furnishing Carpet Area (ft²)  \\\n",
       "0  Apartments       2        2  Semi-Furnished               700   \n",
       "1  Apartments       1        2       Furnished               399   \n",
       "2          -1      -1       -1              -1                -1   \n",
       "3  Apartments       1        1       Furnished               550   \n",
       "4  Apartments       2        2  Semi-Furnished               800   \n",
       "\n",
       "   Maintenance (Monthly)      facing  Total floor  \\\n",
       "0                   4000  North-East            6   \n",
       "1                    999        East            4   \n",
       "2                     -1          -1           -1   \n",
       "3                   5500  North-East            3   \n",
       "4                   1000        East            4   \n",
       "\n",
       "                               state      Rent  \n",
       "0  Andheri East, Mumbai, Maharashtra  ₹ 42,000  \n",
       "1  Andheri East, Mumbai, Maharashtra  ₹ 20,000  \n",
       "2                                 -1        -1  \n",
       "3        Chikhali, Pune, Maharashtra   ₹ 5,500  \n",
       "4  Model Colony, Nashik, Maharashtra  ₹ 15,000  "
      ]
     },
     "execution_count": 3,
     "metadata": {},
     "output_type": "execute_result"
    }
   ],
   "source": [
    "data.head()"
   ]
  },
  {
   "cell_type": "code",
   "execution_count": 4,
   "metadata": {},
   "outputs": [
    {
     "data": {
      "text/plain": [
       "(1200, 10)"
      ]
     },
     "execution_count": 4,
     "metadata": {},
     "output_type": "execute_result"
    }
   ],
   "source": [
    "data.shape"
   ]
  },
  {
   "cell_type": "code",
   "execution_count": 5,
   "metadata": {},
   "outputs": [
    {
     "name": "stdout",
     "output_type": "stream",
     "text": [
      "<class 'pandas.core.frame.DataFrame'>\n",
      "RangeIndex: 1200 entries, 0 to 1199\n",
      "Data columns (total 10 columns):\n",
      " #   Column                 Non-Null Count  Dtype \n",
      "---  ------                 --------------  ----- \n",
      " 0   Type                   1200 non-null   object\n",
      " 1   bedroom                1200 non-null   object\n",
      " 2   bathroom               1200 non-null   object\n",
      " 3   furnishing             1200 non-null   object\n",
      " 4   Carpet Area (ft²)      1200 non-null   object\n",
      " 5   Maintenance (Monthly)  1200 non-null   int64 \n",
      " 6   facing                 1200 non-null   object\n",
      " 7   Total floor            1200 non-null   int64 \n",
      " 8   state                  1200 non-null   object\n",
      " 9   Rent                   1200 non-null   object\n",
      "dtypes: int64(2), object(8)\n",
      "memory usage: 93.9+ KB\n"
     ]
    }
   ],
   "source": [
    "data.info()"
   ]
  },
  {
   "cell_type": "code",
   "execution_count": 69,
   "metadata": {},
   "outputs": [
    {
     "data": {
      "text/html": [
       "<div>\n",
       "<style scoped>\n",
       "    .dataframe tbody tr th:only-of-type {\n",
       "        vertical-align: middle;\n",
       "    }\n",
       "\n",
       "    .dataframe tbody tr th {\n",
       "        vertical-align: top;\n",
       "    }\n",
       "\n",
       "    .dataframe thead th {\n",
       "        text-align: right;\n",
       "    }\n",
       "</style>\n",
       "<table border=\"1\" class=\"dataframe\">\n",
       "  <thead>\n",
       "    <tr style=\"text-align: right;\">\n",
       "      <th></th>\n",
       "      <th>Type</th>\n",
       "      <th>bedroom</th>\n",
       "      <th>bathroom</th>\n",
       "      <th>furnishing</th>\n",
       "      <th>Carpet Area (ft²)</th>\n",
       "      <th>Maintenance (Monthly)</th>\n",
       "      <th>facing</th>\n",
       "      <th>Total floor</th>\n",
       "      <th>state</th>\n",
       "      <th>Rent</th>\n",
       "    </tr>\n",
       "  </thead>\n",
       "  <tbody>\n",
       "    <tr>\n",
       "      <th>640</th>\n",
       "      <td>Apartments</td>\n",
       "      <td>3</td>\n",
       "      <td>3</td>\n",
       "      <td>Semi-Furnished</td>\n",
       "      <td>1600</td>\n",
       "      <td>3000</td>\n",
       "      <td>North-East</td>\n",
       "      <td>12</td>\n",
       "      <td>Gomti Nagar, Lucknow, Uttar Pradesh</td>\n",
       "      <td>₹ 16,000</td>\n",
       "    </tr>\n",
       "    <tr>\n",
       "      <th>641</th>\n",
       "      <td>Builder Floors</td>\n",
       "      <td>3</td>\n",
       "      <td>2</td>\n",
       "      <td>Semi-Furnished</td>\n",
       "      <td>1020</td>\n",
       "      <td>0</td>\n",
       "      <td>North-East</td>\n",
       "      <td>5</td>\n",
       "      <td>Noida Extension, Noida, Uttar Pradesh</td>\n",
       "      <td>₹ 8,650</td>\n",
       "    </tr>\n",
       "    <tr>\n",
       "      <th>642</th>\n",
       "      <td>Apartments</td>\n",
       "      <td>2</td>\n",
       "      <td>2</td>\n",
       "      <td>Unfurnished</td>\n",
       "      <td>3200</td>\n",
       "      <td>200</td>\n",
       "      <td>South-East</td>\n",
       "      <td>3</td>\n",
       "      <td>Kursi Road, Lucknow, Uttar Pradesh</td>\n",
       "      <td>₹ 7,500</td>\n",
       "    </tr>\n",
       "    <tr>\n",
       "      <th>643</th>\n",
       "      <td>Apartments</td>\n",
       "      <td>2</td>\n",
       "      <td>2</td>\n",
       "      <td>Unfurnished</td>\n",
       "      <td>1500</td>\n",
       "      <td>3</td>\n",
       "      <td>VDA COLONY PHASE-1 NEAR DR BHIM RAO AMBEDKAR H...</td>\n",
       "      <td>1</td>\n",
       "      <td>VDA Colony, Varanasi, Uttar Pradesh</td>\n",
       "      <td>₹ 11,000</td>\n",
       "    </tr>\n",
       "    <tr>\n",
       "      <th>644</th>\n",
       "      <td>Apartments</td>\n",
       "      <td>3</td>\n",
       "      <td>3</td>\n",
       "      <td>Furnished</td>\n",
       "      <td>1300</td>\n",
       "      <td>1500</td>\n",
       "      <td>North-West</td>\n",
       "      <td>6</td>\n",
       "      <td>Sector 104, Noida, Uttar Pradesh</td>\n",
       "      <td>₹ 25,000</td>\n",
       "    </tr>\n",
       "    <tr>\n",
       "      <th>...</th>\n",
       "      <td>...</td>\n",
       "      <td>...</td>\n",
       "      <td>...</td>\n",
       "      <td>...</td>\n",
       "      <td>...</td>\n",
       "      <td>...</td>\n",
       "      <td>...</td>\n",
       "      <td>...</td>\n",
       "      <td>...</td>\n",
       "      <td>...</td>\n",
       "    </tr>\n",
       "    <tr>\n",
       "      <th>1195</th>\n",
       "      <td>Apartments</td>\n",
       "      <td>2</td>\n",
       "      <td>2</td>\n",
       "      <td>Semi-Furnished</td>\n",
       "      <td>1000</td>\n",
       "      <td>400</td>\n",
       "      <td>North</td>\n",
       "      <td>2</td>\n",
       "      <td>Chromepet Radha Nagar, Chennai, Tamil Nadu</td>\n",
       "      <td>₹ 10,000</td>\n",
       "    </tr>\n",
       "    <tr>\n",
       "      <th>1196</th>\n",
       "      <td>Houses &amp; Villas</td>\n",
       "      <td>2</td>\n",
       "      <td>1</td>\n",
       "      <td>Semi-Furnished</td>\n",
       "      <td>650</td>\n",
       "      <td>0</td>\n",
       "      <td>South</td>\n",
       "      <td>2</td>\n",
       "      <td>Villivakkam North Jagannath Nagar, Chennai, Ta...</td>\n",
       "      <td>₹ 12,000</td>\n",
       "    </tr>\n",
       "    <tr>\n",
       "      <th>1197</th>\n",
       "      <td>Houses &amp; Villas</td>\n",
       "      <td>1</td>\n",
       "      <td>1</td>\n",
       "      <td>Unfurnished</td>\n",
       "      <td>00</td>\n",
       "      <td>0</td>\n",
       "      <td>வணக்கம்</td>\n",
       "      <td>0</td>\n",
       "      <td>Veerapandi, Tiruppur, Tamil Nadu</td>\n",
       "      <td>₹ 4,000</td>\n",
       "    </tr>\n",
       "    <tr>\n",
       "      <th>1198</th>\n",
       "      <td>Apartments</td>\n",
       "      <td>2</td>\n",
       "      <td>2</td>\n",
       "      <td>Semi-Furnished</td>\n",
       "      <td>1085</td>\n",
       "      <td>2200</td>\n",
       "      <td>North</td>\n",
       "      <td>4</td>\n",
       "      <td>Arcot Road, Chennai, Tamil Nadu</td>\n",
       "      <td>₹ 22,000</td>\n",
       "    </tr>\n",
       "    <tr>\n",
       "      <th>1199</th>\n",
       "      <td>Houses &amp; Villas</td>\n",
       "      <td>2</td>\n",
       "      <td>2</td>\n",
       "      <td>Semi-Furnished</td>\n",
       "      <td>780</td>\n",
       "      <td>500</td>\n",
       "      <td>West</td>\n",
       "      <td>1</td>\n",
       "      <td>Chromepet Kumarapuram, Chennai, Tamil Nadu</td>\n",
       "      <td>₹ 11,000</td>\n",
       "    </tr>\n",
       "  </tbody>\n",
       "</table>\n",
       "<p>560 rows × 10 columns</p>\n",
       "</div>"
      ],
      "text/plain": [
       "                 Type bedroom bathroom      furnishing Carpet Area (ft²)  \\\n",
       "640        Apartments       3        3  Semi-Furnished              1600   \n",
       "641    Builder Floors       3        2  Semi-Furnished              1020   \n",
       "642        Apartments       2        2     Unfurnished              3200   \n",
       "643        Apartments       2        2     Unfurnished              1500   \n",
       "644        Apartments       3        3       Furnished              1300   \n",
       "...               ...     ...      ...             ...               ...   \n",
       "1195       Apartments       2        2  Semi-Furnished              1000   \n",
       "1196  Houses & Villas       2        1  Semi-Furnished               650   \n",
       "1197  Houses & Villas       1        1     Unfurnished                00   \n",
       "1198       Apartments       2        2  Semi-Furnished              1085   \n",
       "1199  Houses & Villas       2        2  Semi-Furnished               780   \n",
       "\n",
       "      Maintenance (Monthly)  \\\n",
       "640                    3000   \n",
       "641                       0   \n",
       "642                     200   \n",
       "643                       3   \n",
       "644                    1500   \n",
       "...                     ...   \n",
       "1195                    400   \n",
       "1196                      0   \n",
       "1197                      0   \n",
       "1198                   2200   \n",
       "1199                    500   \n",
       "\n",
       "                                                 facing  Total floor  \\\n",
       "640                                          North-East           12   \n",
       "641                                          North-East            5   \n",
       "642                                          South-East            3   \n",
       "643   VDA COLONY PHASE-1 NEAR DR BHIM RAO AMBEDKAR H...            1   \n",
       "644                                          North-West            6   \n",
       "...                                                 ...          ...   \n",
       "1195                                              North            2   \n",
       "1196                                              South            2   \n",
       "1197                                            வணக்கம்            0   \n",
       "1198                                              North            4   \n",
       "1199                                               West            1   \n",
       "\n",
       "                                                  state      Rent  \n",
       "640                 Gomti Nagar, Lucknow, Uttar Pradesh  ₹ 16,000  \n",
       "641               Noida Extension, Noida, Uttar Pradesh   ₹ 8,650  \n",
       "642                  Kursi Road, Lucknow, Uttar Pradesh   ₹ 7,500  \n",
       "643                 VDA Colony, Varanasi, Uttar Pradesh  ₹ 11,000  \n",
       "644                    Sector 104, Noida, Uttar Pradesh  ₹ 25,000  \n",
       "...                                                 ...       ...  \n",
       "1195         Chromepet Radha Nagar, Chennai, Tamil Nadu  ₹ 10,000  \n",
       "1196  Villivakkam North Jagannath Nagar, Chennai, Ta...  ₹ 12,000  \n",
       "1197                   Veerapandi, Tiruppur, Tamil Nadu   ₹ 4,000  \n",
       "1198                    Arcot Road, Chennai, Tamil Nadu  ₹ 22,000  \n",
       "1199         Chromepet Kumarapuram, Chennai, Tamil Nadu  ₹ 11,000  \n",
       "\n",
       "[560 rows x 10 columns]"
      ]
     },
     "execution_count": 69,
     "metadata": {},
     "output_type": "execute_result"
    }
   ],
   "source": [
    "data.iloc[640:,:]"
   ]
  },
  {
   "cell_type": "code",
   "execution_count": 6,
   "metadata": {},
   "outputs": [
    {
     "data": {
      "text/plain": [
       "-1             302\n",
       " 0             279\n",
       " 500            79\n",
       " 1000           45\n",
       " 100            37\n",
       "              ... \n",
       " 9744114886      1\n",
       " 2400            1\n",
       " 335             1\n",
       " 8500            1\n",
       " 14000           1\n",
       "Name: Maintenance (Monthly), Length: 100, dtype: int64"
      ]
     },
     "execution_count": 6,
     "metadata": {},
     "output_type": "execute_result"
    }
   ],
   "source": [
    "data['Maintenance (Monthly)'].value_counts()"
   ]
  },
  {
   "cell_type": "code",
   "execution_count": 7,
   "metadata": {},
   "outputs": [],
   "source": [
    "df=data[data['Maintenance (Monthly)']!=-1]"
   ]
  },
  {
   "cell_type": "code",
   "execution_count": 8,
   "metadata": {},
   "outputs": [
    {
     "data": {
      "text/plain": [
       "0             279\n",
       "500            79\n",
       "1000           45\n",
       "100            37\n",
       "2              32\n",
       "             ... \n",
       "80              1\n",
       "1250            1\n",
       "2800            1\n",
       "9744114886      1\n",
       "1992            1\n",
       "Name: Maintenance (Monthly), Length: 99, dtype: int64"
      ]
     },
     "execution_count": 8,
     "metadata": {},
     "output_type": "execute_result"
    }
   ],
   "source": [
    "df['Maintenance (Monthly)'].value_counts()"
   ]
  },
  {
   "cell_type": "code",
   "execution_count": 9,
   "metadata": {},
   "outputs": [
    {
     "data": {
      "text/plain": [
       "(898, 10)"
      ]
     },
     "execution_count": 9,
     "metadata": {},
     "output_type": "execute_result"
    }
   ],
   "source": [
    "df.shape"
   ]
  },
  {
   "cell_type": "code",
   "execution_count": 10,
   "metadata": {},
   "outputs": [],
   "source": [
    "df=df.drop_duplicates(ignore_index=True)"
   ]
  },
  {
   "cell_type": "code",
   "execution_count": 11,
   "metadata": {},
   "outputs": [
    {
     "data": {
      "text/plain": [
       "(887, 10)"
      ]
     },
     "execution_count": 11,
     "metadata": {},
     "output_type": "execute_result"
    }
   ],
   "source": [
    "df.shape"
   ]
  },
  {
   "cell_type": "code",
   "execution_count": 12,
   "metadata": {},
   "outputs": [
    {
     "data": {
      "text/html": [
       "<div>\n",
       "<style scoped>\n",
       "    .dataframe tbody tr th:only-of-type {\n",
       "        vertical-align: middle;\n",
       "    }\n",
       "\n",
       "    .dataframe tbody tr th {\n",
       "        vertical-align: top;\n",
       "    }\n",
       "\n",
       "    .dataframe thead th {\n",
       "        text-align: right;\n",
       "    }\n",
       "</style>\n",
       "<table border=\"1\" class=\"dataframe\">\n",
       "  <thead>\n",
       "    <tr style=\"text-align: right;\">\n",
       "      <th></th>\n",
       "      <th>Type</th>\n",
       "      <th>bedroom</th>\n",
       "      <th>bathroom</th>\n",
       "      <th>furnishing</th>\n",
       "      <th>Carpet Area (ft²)</th>\n",
       "      <th>Maintenance (Monthly)</th>\n",
       "      <th>facing</th>\n",
       "      <th>Total floor</th>\n",
       "      <th>state</th>\n",
       "      <th>Rent</th>\n",
       "    </tr>\n",
       "  </thead>\n",
       "  <tbody>\n",
       "    <tr>\n",
       "      <th>0</th>\n",
       "      <td>Apartments</td>\n",
       "      <td>2</td>\n",
       "      <td>2</td>\n",
       "      <td>Semi-Furnished</td>\n",
       "      <td>700</td>\n",
       "      <td>4000</td>\n",
       "      <td>North-East</td>\n",
       "      <td>6</td>\n",
       "      <td>Andheri East, Mumbai, Maharashtra</td>\n",
       "      <td>₹ 42,000</td>\n",
       "    </tr>\n",
       "    <tr>\n",
       "      <th>1</th>\n",
       "      <td>Apartments</td>\n",
       "      <td>1</td>\n",
       "      <td>2</td>\n",
       "      <td>Furnished</td>\n",
       "      <td>399</td>\n",
       "      <td>999</td>\n",
       "      <td>East</td>\n",
       "      <td>4</td>\n",
       "      <td>Andheri East, Mumbai, Maharashtra</td>\n",
       "      <td>₹ 20,000</td>\n",
       "    </tr>\n",
       "    <tr>\n",
       "      <th>2</th>\n",
       "      <td>Apartments</td>\n",
       "      <td>1</td>\n",
       "      <td>1</td>\n",
       "      <td>Furnished</td>\n",
       "      <td>550</td>\n",
       "      <td>5500</td>\n",
       "      <td>North-East</td>\n",
       "      <td>3</td>\n",
       "      <td>Chikhali, Pune, Maharashtra</td>\n",
       "      <td>₹ 5,500</td>\n",
       "    </tr>\n",
       "    <tr>\n",
       "      <th>3</th>\n",
       "      <td>Apartments</td>\n",
       "      <td>2</td>\n",
       "      <td>2</td>\n",
       "      <td>Semi-Furnished</td>\n",
       "      <td>800</td>\n",
       "      <td>1000</td>\n",
       "      <td>East</td>\n",
       "      <td>4</td>\n",
       "      <td>Model Colony, Nashik, Maharashtra</td>\n",
       "      <td>₹ 15,000</td>\n",
       "    </tr>\n",
       "    <tr>\n",
       "      <th>4</th>\n",
       "      <td>Apartments</td>\n",
       "      <td>3</td>\n",
       "      <td>3</td>\n",
       "      <td>Furnished</td>\n",
       "      <td>1800</td>\n",
       "      <td>2000</td>\n",
       "      <td>East</td>\n",
       "      <td>5</td>\n",
       "      <td>Serene Meadows, Nashik, Maharashtra</td>\n",
       "      <td>₹ 31,000</td>\n",
       "    </tr>\n",
       "  </tbody>\n",
       "</table>\n",
       "</div>"
      ],
      "text/plain": [
       "         Type bedroom bathroom      furnishing Carpet Area (ft²)  \\\n",
       "0  Apartments       2        2  Semi-Furnished               700   \n",
       "1  Apartments       1        2       Furnished               399   \n",
       "2  Apartments       1        1       Furnished               550   \n",
       "3  Apartments       2        2  Semi-Furnished               800   \n",
       "4  Apartments       3        3       Furnished              1800   \n",
       "\n",
       "   Maintenance (Monthly)      facing  Total floor  \\\n",
       "0                   4000  North-East            6   \n",
       "1                    999        East            4   \n",
       "2                   5500  North-East            3   \n",
       "3                   1000        East            4   \n",
       "4                   2000        East            5   \n",
       "\n",
       "                                 state      Rent  \n",
       "0    Andheri East, Mumbai, Maharashtra  ₹ 42,000  \n",
       "1    Andheri East, Mumbai, Maharashtra  ₹ 20,000  \n",
       "2          Chikhali, Pune, Maharashtra   ₹ 5,500  \n",
       "3    Model Colony, Nashik, Maharashtra  ₹ 15,000  \n",
       "4  Serene Meadows, Nashik, Maharashtra  ₹ 31,000  "
      ]
     },
     "execution_count": 12,
     "metadata": {},
     "output_type": "execute_result"
    }
   ],
   "source": [
    "df.head()"
   ]
  },
  {
   "cell_type": "code",
   "execution_count": 13,
   "metadata": {},
   "outputs": [],
   "source": [
    "df['Rent'].replace(regex=True, inplace=True, to_replace=r'[^0-9.\\-]', value=r'')\n",
    "df['Rent'] = df['Rent'].astype('int64')"
   ]
  },
  {
   "cell_type": "code",
   "execution_count": 14,
   "metadata": {},
   "outputs": [
    {
     "data": {
      "text/plain": [
       "Apartments         467\n",
       "Houses & Villas    315\n",
       "Builder Floors     105\n",
       "Name: Type, dtype: int64"
      ]
     },
     "execution_count": 14,
     "metadata": {},
     "output_type": "execute_result"
    }
   ],
   "source": [
    "df.Type.value_counts()"
   ]
  },
  {
   "cell_type": "code",
   "execution_count": 15,
   "metadata": {},
   "outputs": [
    {
     "data": {
      "text/plain": [
       "2     429\n",
       "1     287\n",
       "3     148\n",
       "4      14\n",
       "4+      9\n",
       "Name: bedroom, dtype: int64"
      ]
     },
     "execution_count": 15,
     "metadata": {},
     "output_type": "execute_result"
    }
   ],
   "source": [
    "df.bedroom.value_counts()"
   ]
  },
  {
   "cell_type": "code",
   "execution_count": 16,
   "metadata": {},
   "outputs": [],
   "source": [
    "i=df[(df['bedroom']=='4+') ].index"
   ]
  },
  {
   "cell_type": "code",
   "execution_count": 17,
   "metadata": {},
   "outputs": [],
   "source": [
    "df.loc[i,'bedroom']=5"
   ]
  },
  {
   "cell_type": "code",
   "execution_count": 18,
   "metadata": {},
   "outputs": [],
   "source": [
    "df['bedroom'] = df['bedroom'].astype('int64')"
   ]
  },
  {
   "cell_type": "code",
   "execution_count": null,
   "metadata": {},
   "outputs": [],
   "source": []
  },
  {
   "cell_type": "code",
   "execution_count": 25,
   "metadata": {},
   "outputs": [
    {
     "data": {
      "text/plain": [
       "2    409\n",
       "1    359\n",
       "3    103\n",
       "4     10\n",
       "5      6\n",
       "Name: bathroom, dtype: int64"
      ]
     },
     "execution_count": 25,
     "metadata": {},
     "output_type": "execute_result"
    }
   ],
   "source": [
    "df.bathroom.value_counts()"
   ]
  },
  {
   "cell_type": "code",
   "execution_count": 20,
   "metadata": {},
   "outputs": [],
   "source": [
    "df.loc[563,'bathroom']=1"
   ]
  },
  {
   "cell_type": "code",
   "execution_count": 22,
   "metadata": {},
   "outputs": [],
   "source": [
    "i=df[(df['bathroom']=='4+') ].index"
   ]
  },
  {
   "cell_type": "code",
   "execution_count": 23,
   "metadata": {},
   "outputs": [],
   "source": [
    "df.loc[i,'bathroom']=5"
   ]
  },
  {
   "cell_type": "code",
   "execution_count": 24,
   "metadata": {},
   "outputs": [],
   "source": [
    "df['bathroom'] = df['bathroom'].astype('int64')"
   ]
  },
  {
   "cell_type": "code",
   "execution_count": null,
   "metadata": {},
   "outputs": [],
   "source": []
  },
  {
   "cell_type": "code",
   "execution_count": 26,
   "metadata": {},
   "outputs": [
    {
     "data": {
      "text/plain": [
       "Semi-Furnished    434\n",
       "Unfurnished       257\n",
       "Furnished         194\n",
       "Owner               1\n",
       "Builder             1\n",
       "Name: furnishing, dtype: int64"
      ]
     },
     "execution_count": 26,
     "metadata": {},
     "output_type": "execute_result"
    }
   ],
   "source": [
    "df.furnishing.value_counts()"
   ]
  },
  {
   "cell_type": "code",
   "execution_count": 27,
   "metadata": {},
   "outputs": [
    {
     "data": {
      "text/html": [
       "<div>\n",
       "<style scoped>\n",
       "    .dataframe tbody tr th:only-of-type {\n",
       "        vertical-align: middle;\n",
       "    }\n",
       "\n",
       "    .dataframe tbody tr th {\n",
       "        vertical-align: top;\n",
       "    }\n",
       "\n",
       "    .dataframe thead th {\n",
       "        text-align: right;\n",
       "    }\n",
       "</style>\n",
       "<table border=\"1\" class=\"dataframe\">\n",
       "  <thead>\n",
       "    <tr style=\"text-align: right;\">\n",
       "      <th></th>\n",
       "      <th>Type</th>\n",
       "      <th>bedroom</th>\n",
       "      <th>bathroom</th>\n",
       "      <th>furnishing</th>\n",
       "      <th>Carpet Area (ft²)</th>\n",
       "      <th>Maintenance (Monthly)</th>\n",
       "      <th>facing</th>\n",
       "      <th>Total floor</th>\n",
       "      <th>state</th>\n",
       "      <th>Rent</th>\n",
       "    </tr>\n",
       "  </thead>\n",
       "  <tbody>\n",
       "    <tr>\n",
       "      <th>199</th>\n",
       "      <td>Apartments</td>\n",
       "      <td>1</td>\n",
       "      <td>1</td>\n",
       "      <td>Builder</td>\n",
       "      <td>Yes</td>\n",
       "      <td>2</td>\n",
       "      <td>SK APARTMENT</td>\n",
       "      <td>2</td>\n",
       "      <td>Mekkara, Thrippunithura, Kerala</td>\n",
       "      <td>7000</td>\n",
       "    </tr>\n",
       "    <tr>\n",
       "      <th>563</th>\n",
       "      <td>Houses &amp; Villas</td>\n",
       "      <td>2</td>\n",
       "      <td>1</td>\n",
       "      <td>Owner</td>\n",
       "      <td>Yes</td>\n",
       "      <td>1</td>\n",
       "      <td>Sakunthala nilayam</td>\n",
       "      <td>0</td>\n",
       "      <td>Maragondanahalli, Bengaluru, Karnataka</td>\n",
       "      <td>15000</td>\n",
       "    </tr>\n",
       "  </tbody>\n",
       "</table>\n",
       "</div>"
      ],
      "text/plain": [
       "                Type  bedroom  bathroom furnishing Carpet Area (ft²)  \\\n",
       "199       Apartments        1         1    Builder               Yes   \n",
       "563  Houses & Villas        2         1      Owner               Yes   \n",
       "\n",
       "     Maintenance (Monthly)              facing  Total floor  \\\n",
       "199                      2        SK APARTMENT            2   \n",
       "563                      1  Sakunthala nilayam            0   \n",
       "\n",
       "                                      state   Rent  \n",
       "199         Mekkara, Thrippunithura, Kerala   7000  \n",
       "563  Maragondanahalli, Bengaluru, Karnataka  15000  "
      ]
     },
     "execution_count": 27,
     "metadata": {},
     "output_type": "execute_result"
    }
   ],
   "source": [
    "df[(df['furnishing']=='Owner') | (df['furnishing']=='Builder')]"
   ]
  },
  {
   "cell_type": "code",
   "execution_count": 28,
   "metadata": {},
   "outputs": [],
   "source": [
    "df.loc[563,'furnishing']='Furnished'"
   ]
  },
  {
   "cell_type": "code",
   "execution_count": 29,
   "metadata": {},
   "outputs": [],
   "source": [
    "df.loc[199,'furnishing']='Semi-Furnished' #mode value"
   ]
  },
  {
   "cell_type": "code",
   "execution_count": 30,
   "metadata": {},
   "outputs": [
    {
     "data": {
      "text/plain": [
       "Semi-Furnished    435\n",
       "Unfurnished       257\n",
       "Furnished         195\n",
       "Name: furnishing, dtype: int64"
      ]
     },
     "execution_count": 30,
     "metadata": {},
     "output_type": "execute_result"
    }
   ],
   "source": [
    "df.furnishing.value_counts()"
   ]
  },
  {
   "cell_type": "code",
   "execution_count": null,
   "metadata": {},
   "outputs": [],
   "source": []
  },
  {
   "cell_type": "code",
   "execution_count": 31,
   "metadata": {},
   "outputs": [
    {
     "data": {
      "text/plain": [
       "East                321\n",
       "North               142\n",
       "North-East          119\n",
       "West                 75\n",
       "South                47\n",
       "                   ... \n",
       "Snowden s Homes       1\n",
       "Perumanoor            1\n",
       "Alok properties       1\n",
       "Sai Amaraa Niaya      1\n",
       "wellington mews       1\n",
       "Name: facing, Length: 137, dtype: int64"
      ]
     },
     "execution_count": 31,
     "metadata": {},
     "output_type": "execute_result"
    }
   ],
   "source": [
    "df.facing.value_counts()"
   ]
  },
  {
   "cell_type": "code",
   "execution_count": 32,
   "metadata": {},
   "outputs": [],
   "source": [
    "i=df[(df['facing']!= 'East' )&( df['facing']!='North-East') & (df['facing']!='North') & (df['facing']!='West') & (df['facing']!='South')&( df['facing']!='North-West')&( df['facing']!='South-East')&( df['facing']!='South-West')].index"
   ]
  },
  {
   "cell_type": "code",
   "execution_count": 33,
   "metadata": {},
   "outputs": [],
   "source": [
    "df.loc[i,'facing']='others'"
   ]
  },
  {
   "cell_type": "code",
   "execution_count": 34,
   "metadata": {},
   "outputs": [
    {
     "data": {
      "text/plain": [
       "East          321\n",
       "North         142\n",
       "others        140\n",
       "North-East    119\n",
       "West           75\n",
       "South          47\n",
       "North-West     23\n",
       "South-East     13\n",
       "South-West      7\n",
       "Name: facing, dtype: int64"
      ]
     },
     "execution_count": 34,
     "metadata": {},
     "output_type": "execute_result"
    }
   ],
   "source": [
    "df.facing.value_counts()"
   ]
  },
  {
   "cell_type": "code",
   "execution_count": null,
   "metadata": {},
   "outputs": [],
   "source": []
  },
  {
   "cell_type": "code",
   "execution_count": null,
   "metadata": {},
   "outputs": [],
   "source": []
  },
  {
   "cell_type": "code",
   "execution_count": 35,
   "metadata": {},
   "outputs": [
    {
     "data": {
      "text/plain": [
       "2     214\n",
       "1     155\n",
       "3     140\n",
       "4      98\n",
       "5      46\n",
       "0      34\n",
       "7      28\n",
       "12     19\n",
       "6      16\n",
       "15     16\n",
       "11     13\n",
       "19     13\n",
       "14     11\n",
       "13     11\n",
       "10     10\n",
       "8       9\n",
       "22      8\n",
       "24      6\n",
       "17      5\n",
       "9       5\n",
       "26      4\n",
       "25      4\n",
       "20      4\n",
       "21      3\n",
       "16      3\n",
       "18      3\n",
       "23      2\n",
       "30      2\n",
       "27      2\n",
       "32      2\n",
       "28      1\n",
       "Name: Total floor, dtype: int64"
      ]
     },
     "execution_count": 35,
     "metadata": {},
     "output_type": "execute_result"
    }
   ],
   "source": [
    "df['Total floor'].value_counts()"
   ]
  },
  {
   "cell_type": "code",
   "execution_count": null,
   "metadata": {},
   "outputs": [],
   "source": []
  },
  {
   "cell_type": "code",
   "execution_count": 36,
   "metadata": {},
   "outputs": [
    {
     "data": {
      "text/plain": [
       "1000    54\n",
       "800     40\n",
       "1200    38\n",
       "600     36\n",
       "500     33\n",
       "        ..\n",
       "1285     1\n",
       "953      1\n",
       "1175     1\n",
       "1759     1\n",
       "901      1\n",
       "Name: Carpet Area (ft²), Length: 199, dtype: int64"
      ]
     },
     "execution_count": 36,
     "metadata": {},
     "output_type": "execute_result"
    }
   ],
   "source": [
    "df['Carpet Area (ft²)'].value_counts()"
   ]
  },
  {
   "cell_type": "code",
   "execution_count": 37,
   "metadata": {},
   "outputs": [
    {
     "data": {
      "text/html": [
       "<div>\n",
       "<style scoped>\n",
       "    .dataframe tbody tr th:only-of-type {\n",
       "        vertical-align: middle;\n",
       "    }\n",
       "\n",
       "    .dataframe tbody tr th {\n",
       "        vertical-align: top;\n",
       "    }\n",
       "\n",
       "    .dataframe thead th {\n",
       "        text-align: right;\n",
       "    }\n",
       "</style>\n",
       "<table border=\"1\" class=\"dataframe\">\n",
       "  <thead>\n",
       "    <tr style=\"text-align: right;\">\n",
       "      <th></th>\n",
       "      <th>Type</th>\n",
       "      <th>bedroom</th>\n",
       "      <th>bathroom</th>\n",
       "      <th>furnishing</th>\n",
       "      <th>Carpet Area (ft²)</th>\n",
       "      <th>Maintenance (Monthly)</th>\n",
       "      <th>facing</th>\n",
       "      <th>Total floor</th>\n",
       "      <th>state</th>\n",
       "      <th>Rent</th>\n",
       "    </tr>\n",
       "  </thead>\n",
       "  <tbody>\n",
       "    <tr>\n",
       "      <th>191</th>\n",
       "      <td>Apartments</td>\n",
       "      <td>3</td>\n",
       "      <td>3</td>\n",
       "      <td>Unfurnished</td>\n",
       "      <td>Yes</td>\n",
       "      <td>5</td>\n",
       "      <td>others</td>\n",
       "      <td>1</td>\n",
       "      <td>Mundamveli, Kochi, Kerala</td>\n",
       "      <td>12000</td>\n",
       "    </tr>\n",
       "    <tr>\n",
       "      <th>199</th>\n",
       "      <td>Apartments</td>\n",
       "      <td>1</td>\n",
       "      <td>1</td>\n",
       "      <td>Semi-Furnished</td>\n",
       "      <td>Yes</td>\n",
       "      <td>2</td>\n",
       "      <td>others</td>\n",
       "      <td>2</td>\n",
       "      <td>Mekkara, Thrippunithura, Kerala</td>\n",
       "      <td>7000</td>\n",
       "    </tr>\n",
       "    <tr>\n",
       "      <th>563</th>\n",
       "      <td>Houses &amp; Villas</td>\n",
       "      <td>2</td>\n",
       "      <td>1</td>\n",
       "      <td>Furnished</td>\n",
       "      <td>Yes</td>\n",
       "      <td>1</td>\n",
       "      <td>others</td>\n",
       "      <td>0</td>\n",
       "      <td>Maragondanahalli, Bengaluru, Karnataka</td>\n",
       "      <td>15000</td>\n",
       "    </tr>\n",
       "  </tbody>\n",
       "</table>\n",
       "</div>"
      ],
      "text/plain": [
       "                Type  bedroom  bathroom      furnishing Carpet Area (ft²)  \\\n",
       "191       Apartments        3         3     Unfurnished               Yes   \n",
       "199       Apartments        1         1  Semi-Furnished               Yes   \n",
       "563  Houses & Villas        2         1       Furnished               Yes   \n",
       "\n",
       "     Maintenance (Monthly)  facing  Total floor  \\\n",
       "191                      5  others            1   \n",
       "199                      2  others            2   \n",
       "563                      1  others            0   \n",
       "\n",
       "                                      state   Rent  \n",
       "191               Mundamveli, Kochi, Kerala  12000  \n",
       "199         Mekkara, Thrippunithura, Kerala   7000  \n",
       "563  Maragondanahalli, Bengaluru, Karnataka  15000  "
      ]
     },
     "execution_count": 37,
     "metadata": {},
     "output_type": "execute_result"
    }
   ],
   "source": [
    "df[df['Carpet Area (ft²)']=='Yes']"
   ]
  },
  {
   "cell_type": "code",
   "execution_count": 38,
   "metadata": {},
   "outputs": [],
   "source": [
    "df.loc[[563,199,191],'Carpet Area (ft²)']=np.NaN"
   ]
  },
  {
   "cell_type": "code",
   "execution_count": 39,
   "metadata": {},
   "outputs": [
    {
     "data": {
      "text/html": [
       "<div>\n",
       "<style scoped>\n",
       "    .dataframe tbody tr th:only-of-type {\n",
       "        vertical-align: middle;\n",
       "    }\n",
       "\n",
       "    .dataframe tbody tr th {\n",
       "        vertical-align: top;\n",
       "    }\n",
       "\n",
       "    .dataframe thead th {\n",
       "        text-align: right;\n",
       "    }\n",
       "</style>\n",
       "<table border=\"1\" class=\"dataframe\">\n",
       "  <thead>\n",
       "    <tr style=\"text-align: right;\">\n",
       "      <th></th>\n",
       "      <th>Type</th>\n",
       "      <th>bedroom</th>\n",
       "      <th>bathroom</th>\n",
       "      <th>furnishing</th>\n",
       "      <th>Carpet Area (ft²)</th>\n",
       "      <th>Maintenance (Monthly)</th>\n",
       "      <th>facing</th>\n",
       "      <th>Total floor</th>\n",
       "      <th>state</th>\n",
       "      <th>Rent</th>\n",
       "    </tr>\n",
       "  </thead>\n",
       "  <tbody>\n",
       "    <tr>\n",
       "      <th>61</th>\n",
       "      <td>Apartments</td>\n",
       "      <td>1</td>\n",
       "      <td>1</td>\n",
       "      <td>Unfurnished</td>\n",
       "      <td>No</td>\n",
       "      <td>4</td>\n",
       "      <td>others</td>\n",
       "      <td>1</td>\n",
       "      <td>Keshav Nagar, Pune, Maharashtra</td>\n",
       "      <td>5000</td>\n",
       "    </tr>\n",
       "  </tbody>\n",
       "</table>\n",
       "</div>"
      ],
      "text/plain": [
       "          Type  bedroom  bathroom   furnishing Carpet Area (ft²)  \\\n",
       "61  Apartments        1         1  Unfurnished                No   \n",
       "\n",
       "    Maintenance (Monthly)  facing  Total floor  \\\n",
       "61                      4  others            1   \n",
       "\n",
       "                              state  Rent  \n",
       "61  Keshav Nagar, Pune, Maharashtra  5000  "
      ]
     },
     "execution_count": 39,
     "metadata": {},
     "output_type": "execute_result"
    }
   ],
   "source": [
    "df[df['Carpet Area (ft²)']=='No']"
   ]
  },
  {
   "cell_type": "code",
   "execution_count": 40,
   "metadata": {},
   "outputs": [],
   "source": [
    "df.loc[61,'Carpet Area (ft²)']=np.NaN"
   ]
  },
  {
   "cell_type": "code",
   "execution_count": 41,
   "metadata": {},
   "outputs": [],
   "source": [
    "df['Carpet Area (ft²)'] = df['Carpet Area (ft²)'].astype('float64')"
   ]
  },
  {
   "cell_type": "code",
   "execution_count": 42,
   "metadata": {},
   "outputs": [
    {
     "data": {
      "text/plain": [
       "7005565310.0"
      ]
     },
     "execution_count": 42,
     "metadata": {},
     "output_type": "execute_result"
    }
   ],
   "source": [
    "df['Carpet Area (ft²)'].max()"
   ]
  },
  {
   "cell_type": "code",
   "execution_count": 43,
   "metadata": {},
   "outputs": [
    {
     "data": {
      "text/html": [
       "<div>\n",
       "<style scoped>\n",
       "    .dataframe tbody tr th:only-of-type {\n",
       "        vertical-align: middle;\n",
       "    }\n",
       "\n",
       "    .dataframe tbody tr th {\n",
       "        vertical-align: top;\n",
       "    }\n",
       "\n",
       "    .dataframe thead th {\n",
       "        text-align: right;\n",
       "    }\n",
       "</style>\n",
       "<table border=\"1\" class=\"dataframe\">\n",
       "  <thead>\n",
       "    <tr style=\"text-align: right;\">\n",
       "      <th></th>\n",
       "      <th>Type</th>\n",
       "      <th>bedroom</th>\n",
       "      <th>bathroom</th>\n",
       "      <th>furnishing</th>\n",
       "      <th>Carpet Area (ft²)</th>\n",
       "      <th>Maintenance (Monthly)</th>\n",
       "      <th>facing</th>\n",
       "      <th>Total floor</th>\n",
       "      <th>state</th>\n",
       "      <th>Rent</th>\n",
       "    </tr>\n",
       "  </thead>\n",
       "  <tbody>\n",
       "    <tr>\n",
       "      <th>422</th>\n",
       "      <td>Houses &amp; Villas</td>\n",
       "      <td>1</td>\n",
       "      <td>1</td>\n",
       "      <td>Semi-Furnished</td>\n",
       "      <td>7.005565e+09</td>\n",
       "      <td>1</td>\n",
       "      <td>others</td>\n",
       "      <td>1</td>\n",
       "      <td>Kankarkhera, Meerut, Uttar Pradesh</td>\n",
       "      <td>3800</td>\n",
       "    </tr>\n",
       "  </tbody>\n",
       "</table>\n",
       "</div>"
      ],
      "text/plain": [
       "                Type  bedroom  bathroom      furnishing  Carpet Area (ft²)  \\\n",
       "422  Houses & Villas        1         1  Semi-Furnished       7.005565e+09   \n",
       "\n",
       "     Maintenance (Monthly)  facing  Total floor  \\\n",
       "422                      1  others            1   \n",
       "\n",
       "                                  state  Rent  \n",
       "422  Kankarkhera, Meerut, Uttar Pradesh  3800  "
      ]
     },
     "execution_count": 43,
     "metadata": {},
     "output_type": "execute_result"
    }
   ],
   "source": [
    "df[df['Carpet Area (ft²)']==7005565310.0]"
   ]
  },
  {
   "cell_type": "code",
   "execution_count": 45,
   "metadata": {},
   "outputs": [],
   "source": [
    "i=df[df['Carpet Area (ft²)']<100].index"
   ]
  },
  {
   "cell_type": "code",
   "execution_count": 46,
   "metadata": {},
   "outputs": [],
   "source": [
    "df.loc[i,'Carpet Area (ft²)']=np.NaN"
   ]
  },
  {
   "cell_type": "code",
   "execution_count": 44,
   "metadata": {},
   "outputs": [],
   "source": [
    "df.loc[422,'Carpet Area (ft²)']=np.NaN"
   ]
  },
  {
   "cell_type": "code",
   "execution_count": null,
   "metadata": {},
   "outputs": [],
   "source": []
  },
  {
   "cell_type": "code",
   "execution_count": 47,
   "metadata": {
    "scrolled": true
   },
   "outputs": [
    {
     "data": {
      "text/plain": [
       "<AxesSubplot:>"
      ]
     },
     "execution_count": 47,
     "metadata": {},
     "output_type": "execute_result"
    },
    {
     "data": {
      "image/png": "[encoded data removed]",
      "text/plain": [
       "<Figure size 720x576 with 1 Axes>"
      ]
     },
     "metadata": {
      "needs_background": "light"
     },
     "output_type": "display_data"
    }
   ],
   "source": [
    "df['Carpet Area (ft²)'].hist(bins=3,figsize=(10,8))"
   ]
  },
  {
   "cell_type": "code",
   "execution_count": null,
   "metadata": {},
   "outputs": [],
   "source": []
  },
  {
   "cell_type": "code",
   "execution_count": 58,
   "metadata": {},
   "outputs": [],
   "source": []
  },
  {
   "cell_type": "code",
   "execution_count": 53,
   "metadata": {},
   "outputs": [],
   "source": []
  },
  {
   "cell_type": "code",
   "execution_count": 48,
   "metadata": {},
   "outputs": [],
   "source": [
    "df['state']=df.state.apply(lambda x:x.split(',')[-1])"
   ]
  },
  {
   "cell_type": "code",
   "execution_count": 49,
   "metadata": {},
   "outputs": [
    {
     "data": {
      "text/html": [
       "<div>\n",
       "<style scoped>\n",
       "    .dataframe tbody tr th:only-of-type {\n",
       "        vertical-align: middle;\n",
       "    }\n",
       "\n",
       "    .dataframe tbody tr th {\n",
       "        vertical-align: top;\n",
       "    }\n",
       "\n",
       "    .dataframe thead th {\n",
       "        text-align: right;\n",
       "    }\n",
       "</style>\n",
       "<table border=\"1\" class=\"dataframe\">\n",
       "  <thead>\n",
       "    <tr style=\"text-align: right;\">\n",
       "      <th></th>\n",
       "      <th>Type</th>\n",
       "      <th>bedroom</th>\n",
       "      <th>bathroom</th>\n",
       "      <th>furnishing</th>\n",
       "      <th>Carpet Area (ft²)</th>\n",
       "      <th>Maintenance (Monthly)</th>\n",
       "      <th>facing</th>\n",
       "      <th>Total floor</th>\n",
       "      <th>state</th>\n",
       "      <th>Rent</th>\n",
       "    </tr>\n",
       "  </thead>\n",
       "  <tbody>\n",
       "    <tr>\n",
       "      <th>0</th>\n",
       "      <td>Apartments</td>\n",
       "      <td>2</td>\n",
       "      <td>2</td>\n",
       "      <td>Semi-Furnished</td>\n",
       "      <td>700.0</td>\n",
       "      <td>4000</td>\n",
       "      <td>North-East</td>\n",
       "      <td>6</td>\n",
       "      <td>Maharashtra</td>\n",
       "      <td>42000</td>\n",
       "    </tr>\n",
       "    <tr>\n",
       "      <th>1</th>\n",
       "      <td>Apartments</td>\n",
       "      <td>1</td>\n",
       "      <td>2</td>\n",
       "      <td>Furnished</td>\n",
       "      <td>399.0</td>\n",
       "      <td>999</td>\n",
       "      <td>East</td>\n",
       "      <td>4</td>\n",
       "      <td>Maharashtra</td>\n",
       "      <td>20000</td>\n",
       "    </tr>\n",
       "    <tr>\n",
       "      <th>2</th>\n",
       "      <td>Apartments</td>\n",
       "      <td>1</td>\n",
       "      <td>1</td>\n",
       "      <td>Furnished</td>\n",
       "      <td>550.0</td>\n",
       "      <td>5500</td>\n",
       "      <td>North-East</td>\n",
       "      <td>3</td>\n",
       "      <td>Maharashtra</td>\n",
       "      <td>5500</td>\n",
       "    </tr>\n",
       "    <tr>\n",
       "      <th>3</th>\n",
       "      <td>Apartments</td>\n",
       "      <td>2</td>\n",
       "      <td>2</td>\n",
       "      <td>Semi-Furnished</td>\n",
       "      <td>800.0</td>\n",
       "      <td>1000</td>\n",
       "      <td>East</td>\n",
       "      <td>4</td>\n",
       "      <td>Maharashtra</td>\n",
       "      <td>15000</td>\n",
       "    </tr>\n",
       "    <tr>\n",
       "      <th>4</th>\n",
       "      <td>Apartments</td>\n",
       "      <td>3</td>\n",
       "      <td>3</td>\n",
       "      <td>Furnished</td>\n",
       "      <td>1800.0</td>\n",
       "      <td>2000</td>\n",
       "      <td>East</td>\n",
       "      <td>5</td>\n",
       "      <td>Maharashtra</td>\n",
       "      <td>31000</td>\n",
       "    </tr>\n",
       "  </tbody>\n",
       "</table>\n",
       "</div>"
      ],
      "text/plain": [
       "         Type  bedroom  bathroom      furnishing  Carpet Area (ft²)  \\\n",
       "0  Apartments        2         2  Semi-Furnished              700.0   \n",
       "1  Apartments        1         2       Furnished              399.0   \n",
       "2  Apartments        1         1       Furnished              550.0   \n",
       "3  Apartments        2         2  Semi-Furnished              800.0   \n",
       "4  Apartments        3         3       Furnished             1800.0   \n",
       "\n",
       "   Maintenance (Monthly)      facing  Total floor         state   Rent  \n",
       "0                   4000  North-East            6   Maharashtra  42000  \n",
       "1                    999        East            4   Maharashtra  20000  \n",
       "2                   5500  North-East            3   Maharashtra   5500  \n",
       "3                   1000        East            4   Maharashtra  15000  \n",
       "4                   2000        East            5   Maharashtra  31000  "
      ]
     },
     "execution_count": 49,
     "metadata": {},
     "output_type": "execute_result"
    }
   ],
   "source": [
    "df.head()"
   ]
  },
  {
   "cell_type": "code",
   "execution_count": null,
   "metadata": {},
   "outputs": [],
   "source": []
  },
  {
   "cell_type": "code",
   "execution_count": 50,
   "metadata": {},
   "outputs": [
    {
     "data": {
      "text/plain": [
       "count    8.870000e+02\n",
       "mean     1.098671e+07\n",
       "std      3.271753e+08\n",
       "min      0.000000e+00\n",
       "25%      0.000000e+00\n",
       "50%      2.000000e+02\n",
       "75%      1.450000e+03\n",
       "max      9.744115e+09\n",
       "Name: Maintenance (Monthly), dtype: float64"
      ]
     },
     "execution_count": 50,
     "metadata": {},
     "output_type": "execute_result"
    }
   ],
   "source": [
    "df['Maintenance (Monthly)'].describe()"
   ]
  },
  {
   "cell_type": "code",
   "execution_count": 51,
   "metadata": {},
   "outputs": [
    {
     "data": {
      "text/plain": [
       "<AxesSubplot:>"
      ]
     },
     "execution_count": 51,
     "metadata": {},
     "output_type": "execute_result"
    },
    {
     "data": {
      "image/png": "[encoded data removed]",
      "text/plain": [
       "<Figure size 432x288 with 1 Axes>"
      ]
     },
     "metadata": {
      "needs_background": "light"
     },
     "output_type": "display_data"
    }
   ],
   "source": [
    "df['Maintenance (Monthly)'].hist()"
   ]
  },
  {
   "cell_type": "code",
   "execution_count": 60,
   "metadata": {},
   "outputs": [],
   "source": [
    "i=df[(df['Maintenance (Monthly)']<100) &(df['Maintenance (Monthly)']!=0)].index"
   ]
  },
  {
   "cell_type": "code",
   "execution_count": 61,
   "metadata": {},
   "outputs": [
    {
     "data": {
      "text/plain": [
       "113"
      ]
     },
     "execution_count": 61,
     "metadata": {},
     "output_type": "execute_result"
    }
   ],
   "source": [
    "len(i)"
   ]
  },
  {
   "cell_type": "code",
   "execution_count": 62,
   "metadata": {},
   "outputs": [],
   "source": [
    "df.loc[i,'Maintenance (Monthly)']=np.NaN"
   ]
  },
  {
   "cell_type": "code",
   "execution_count": null,
   "metadata": {},
   "outputs": [],
   "source": []
  },
  {
   "cell_type": "code",
   "execution_count": 63,
   "metadata": {},
   "outputs": [
    {
     "data": {
      "text/plain": [
       "0.0        275\n",
       "500.0       78\n",
       "1000.0      45\n",
       "100.0       37\n",
       "2000.0      31\n",
       "          ... \n",
       "708.0        1\n",
       "11000.0      1\n",
       "4700.0       1\n",
       "875.0        1\n",
       "40000.0      1\n",
       "Name: Maintenance (Monthly), Length: 80, dtype: int64"
      ]
     },
     "execution_count": 63,
     "metadata": {},
     "output_type": "execute_result"
    }
   ],
   "source": [
    "df['Maintenance (Monthly)'].value_counts()"
   ]
  },
  {
   "cell_type": "code",
   "execution_count": 66,
   "metadata": {},
   "outputs": [
    {
     "data": {
      "text/html": [
       "<div>\n",
       "<style scoped>\n",
       "    .dataframe tbody tr th:only-of-type {\n",
       "        vertical-align: middle;\n",
       "    }\n",
       "\n",
       "    .dataframe tbody tr th {\n",
       "        vertical-align: top;\n",
       "    }\n",
       "\n",
       "    .dataframe thead th {\n",
       "        text-align: right;\n",
       "    }\n",
       "</style>\n",
       "<table border=\"1\" class=\"dataframe\">\n",
       "  <thead>\n",
       "    <tr style=\"text-align: right;\">\n",
       "      <th></th>\n",
       "      <th>Type</th>\n",
       "      <th>bedroom</th>\n",
       "      <th>bathroom</th>\n",
       "      <th>furnishing</th>\n",
       "      <th>Carpet Area (ft²)</th>\n",
       "      <th>Maintenance (Monthly)</th>\n",
       "      <th>facing</th>\n",
       "      <th>Total floor</th>\n",
       "      <th>state</th>\n",
       "      <th>Rent</th>\n",
       "    </tr>\n",
       "  </thead>\n",
       "  <tbody>\n",
       "    <tr>\n",
       "      <th>0</th>\n",
       "      <td>Apartments</td>\n",
       "      <td>2</td>\n",
       "      <td>2</td>\n",
       "      <td>Semi-Furnished</td>\n",
       "      <td>700.0</td>\n",
       "      <td>4000.0</td>\n",
       "      <td>North-East</td>\n",
       "      <td>6</td>\n",
       "      <td>Maharashtra</td>\n",
       "      <td>42000</td>\n",
       "    </tr>\n",
       "    <tr>\n",
       "      <th>1</th>\n",
       "      <td>Apartments</td>\n",
       "      <td>1</td>\n",
       "      <td>2</td>\n",
       "      <td>Furnished</td>\n",
       "      <td>399.0</td>\n",
       "      <td>999.0</td>\n",
       "      <td>East</td>\n",
       "      <td>4</td>\n",
       "      <td>Maharashtra</td>\n",
       "      <td>20000</td>\n",
       "    </tr>\n",
       "    <tr>\n",
       "      <th>2</th>\n",
       "      <td>Apartments</td>\n",
       "      <td>1</td>\n",
       "      <td>1</td>\n",
       "      <td>Furnished</td>\n",
       "      <td>550.0</td>\n",
       "      <td>5500.0</td>\n",
       "      <td>North-East</td>\n",
       "      <td>3</td>\n",
       "      <td>Maharashtra</td>\n",
       "      <td>5500</td>\n",
       "    </tr>\n",
       "    <tr>\n",
       "      <th>3</th>\n",
       "      <td>Apartments</td>\n",
       "      <td>2</td>\n",
       "      <td>2</td>\n",
       "      <td>Semi-Furnished</td>\n",
       "      <td>800.0</td>\n",
       "      <td>1000.0</td>\n",
       "      <td>East</td>\n",
       "      <td>4</td>\n",
       "      <td>Maharashtra</td>\n",
       "      <td>15000</td>\n",
       "    </tr>\n",
       "    <tr>\n",
       "      <th>4</th>\n",
       "      <td>Apartments</td>\n",
       "      <td>3</td>\n",
       "      <td>3</td>\n",
       "      <td>Furnished</td>\n",
       "      <td>1800.0</td>\n",
       "      <td>2000.0</td>\n",
       "      <td>East</td>\n",
       "      <td>5</td>\n",
       "      <td>Maharashtra</td>\n",
       "      <td>31000</td>\n",
       "    </tr>\n",
       "  </tbody>\n",
       "</table>\n",
       "</div>"
      ],
      "text/plain": [
       "         Type  bedroom  bathroom      furnishing  Carpet Area (ft²)  \\\n",
       "0  Apartments        2         2  Semi-Furnished              700.0   \n",
       "1  Apartments        1         2       Furnished              399.0   \n",
       "2  Apartments        1         1       Furnished              550.0   \n",
       "3  Apartments        2         2  Semi-Furnished              800.0   \n",
       "4  Apartments        3         3       Furnished             1800.0   \n",
       "\n",
       "   Maintenance (Monthly)      facing  Total floor         state   Rent  \n",
       "0                 4000.0  North-East            6   Maharashtra  42000  \n",
       "1                  999.0        East            4   Maharashtra  20000  \n",
       "2                 5500.0  North-East            3   Maharashtra   5500  \n",
       "3                 1000.0        East            4   Maharashtra  15000  \n",
       "4                 2000.0        East            5   Maharashtra  31000  "
      ]
     },
     "execution_count": 66,
     "metadata": {},
     "output_type": "execute_result"
    }
   ],
   "source": [
    "df.head()"
   ]
  },
  {
   "cell_type": "code",
   "execution_count": 67,
   "metadata": {},
   "outputs": [],
   "source": [
    "df.to_csv('cleaned_nan_data.csv',index=False)"
   ]
  },
  {
   "cell_type": "markdown",
   "metadata": {},
   "source": []
  },
  {
   "cell_type": "code",
   "execution_count": null,
   "metadata": {},
   "outputs": [],
   "source": []
  },
  {
   "cell_type": "code",
   "execution_count": null,
   "metadata": {},
   "outputs": [],
   "source": []
  },
  {
   "cell_type": "code",
   "execution_count": null,
   "metadata": {},
   "outputs": [],
   "source": []
  },
  {
   "cell_type": "code",
   "execution_count": null,
   "metadata": {},
   "outputs": [],
   "source": []
  },
  {
   "cell_type": "code",
   "execution_count": null,
   "metadata": {},
   "outputs": [],
   "source": []
  },
  {
   "cell_type": "code",
   "execution_count": 116,
   "metadata": {},
   "outputs": [],
   "source": []
  },
  {
   "cell_type": "code",
   "execution_count": 117,
   "metadata": {},
   "outputs": [],
   "source": []
  },
  {
   "cell_type": "code",
   "execution_count": null,
   "metadata": {},
   "outputs": [],
   "source": []
  },
  {
   "cell_type": "code",
   "execution_count": null,
   "metadata": {},
   "outputs": [],
   "source": []
  },
  {
   "cell_type": "code",
   "execution_count": null,
   "metadata": {},
   "outputs": [],
   "source": []
  },
  {
   "cell_type": "code",
   "execution_count": null,
   "metadata": {},
   "outputs": [],
   "source": []
  },
  {
   "cell_type": "code",
   "execution_count": null,
   "metadata": {},
   "outputs": [],
   "source": []
  },
  {
   "cell_type": "code",
   "execution_count": null,
   "metadata": {},
   "outputs": [],
   "source": []
  },
  {
   "cell_type": "code",
   "execution_count": null,
   "metadata": {},
   "outputs": [],
   "source": []
  },
  {
   "cell_type": "code",
   "execution_count": null,
   "metadata": {},
   "outputs": [],
   "source": []
  },
  {
   "cell_type": "markdown",
   "metadata": {},
   "source": []
  },
  {
   "cell_type": "code",
   "execution_count": null,
   "metadata": {},
   "outputs": [],
   "source": []
  },
  {
   "cell_type": "code",
   "execution_count": 134,
   "metadata": {},
   "outputs": [],
   "source": []
  },
  {
   "cell_type": "code",
   "execution_count": null,
   "metadata": {},
   "outputs": [],
   "source": []
  },
  {
   "cell_type": "code",
   "execution_count": null,
   "metadata": {},
   "outputs": [],
   "source": []
  }
 ],
 "metadata": {
  "kernelspec": {
   "display_name": "Python 3",
   "language": "python",
   "name": "python3"
  },
  "language_info": {
   "codemirror_mode": {
    "name": "ipython",
    "version": 3
   },
   "file_extension": ".py",
   "mimetype": "text/x-python",
   "name": "python",
   "nbconvert_exporter": "python",
   "pygments_lexer": "ipython3",
   "version": "3.7.9"
  }
 },
 "nbformat": 4,
 "nbformat_minor": 4
}
